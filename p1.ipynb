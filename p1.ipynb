{
 "cells": [
  {
   "cell_type": "code",
   "execution_count": 12,
   "id": "7476ba57",
   "metadata": {},
   "outputs": [],
   "source": [
    "import pandas as pd\n",
    "import numpy as np\n",
    "\n",
    "from sklearn.model_selection import train_test_split\n",
    "from sklearn.model_selection import KFold\n",
    "from sklearn.model_selection import LeaveOneOut\n",
    "from sklearn.utils import resample"
   ]
  },
  {
   "cell_type": "code",
   "execution_count": 17,
   "id": "4be9437f",
   "metadata": {},
   "outputs": [
    {
     "data": {
      "text/plain": [
       "[array([2, 5, 1, 3, 6, 7]), array([9, 4, 8])]"
      ]
     },
     "execution_count": 17,
     "metadata": {},
     "output_type": "execute_result"
    }
   ],
   "source": [
    "train_test_split(np.arange(1, 10))"
   ]
  },
  {
   "cell_type": "code",
   "execution_count": 35,
   "id": "2082d44b",
   "metadata": {},
   "outputs": [
    {
     "name": "stdout",
     "output_type": "stream",
     "text": [
      "conjunto de entrenamiento: [2 3 4 5 6 7 8 9] | conjunto de prueba: [0 1]\n",
      "conjunto de entrenamiento: [0 1 4 5 6 7 8 9] | conjunto de prueba: [2 3]\n",
      "conjunto de entrenamiento: [0 1 2 3 6 7 8 9] | conjunto de prueba: [4 5]\n",
      "conjunto de entrenamiento: [0 1 2 3 4 5 8 9] | conjunto de prueba: [6 7]\n",
      "conjunto de entrenamiento: [0 1 2 3 4 5 6 7 9] | conjunto de prueba: [8]\n",
      "conjunto de entrenamiento: [0 1 2 3 4 5 6 7 8] | conjunto de prueba: [9]\n"
     ]
    }
   ],
   "source": [
    "X = [1,2,3,4,5,6,7,8,9,10]\n",
    "kf = KFold(n_splits=6, random_state=None, shuffle=False)\n",
    "Y = kf.get_n_splits(X)\n",
    "for train_index, test_index in kf.split(X):\n",
    "    print(f\"conjunto de entrenamiento: {train_index} | conjunto de prueba: {test_index}\")"
   ]
  },
  {
   "cell_type": "code",
   "execution_count": null,
   "id": "b090da4e",
   "metadata": {},
   "outputs": [],
   "source": []
  }
 ],
 "metadata": {
  "kernelspec": {
   "display_name": "Python 3",
   "language": "python",
   "name": "python3"
  },
  "language_info": {
   "codemirror_mode": {
    "name": "ipython",
    "version": 3
   },
   "file_extension": ".py",
   "mimetype": "text/x-python",
   "name": "python",
   "nbconvert_exporter": "python",
   "pygments_lexer": "ipython3",
   "version": "3.12.10"
  }
 },
 "nbformat": 4,
 "nbformat_minor": 5
}
