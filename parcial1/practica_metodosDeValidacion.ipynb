{
 "cells": [
  {
   "cell_type": "markdown",
   "id": "8bdd944b",
   "metadata": {},
   "source": [
    "# Práctica. Métodos de Validación\n",
    "Francisco Pineda Hernández"
   ]
  },
  {
   "cell_type": "markdown",
   "id": "6808d294",
   "metadata": {},
   "source": [
    "# Especificaciones\n",
    "1. Investiga las siguientes funciones de scikit learn\n",
    " - train_test_Split()\n",
    " - Kfold()\n",
    " - LeaveOneOut()\n",
    " - resample()"
   ]
  },
  {
   "cell_type": "markdown",
   "id": "c00c37b2",
   "metadata": {},
   "source": [
    "## train_test_Split()\n",
    "\n",
    "Esta función sirve para dividir un conjutno de datos en dos subconjuntos, uno de entrenamiento (train) y otro para pruebas (test).\n",
    "\n",
    "| Parámetro     | Tipo / Valor por defecto                  | Descripción                                                                 |\n",
    "|---------------|-------------------------------------------|-----------------------------------------------------------------------------|\n",
    "| *arrays       | listas, NumPy arrays, pandas DataFrames o SciPy sparse matrices | Secuencia de datos a dividir (deben tener la misma longitud en la primera dimensión). |\n",
    "| test_size     | float \\| int \\| None, default=None        | Número de muestras para el **conjunto de prueba**. <br>• Si es `float`: entre 0 y 1 (proporción). <br>• Si es `int`: número exacto de muestras. <br>• Si es `None`: se toma el complemento de `train_size`. |\n",
    "| train_size    | float \\| int \\| None, default=None        | Igual que `test_size`, pero para el **conjunto de entrenamiento**. Si es `None`, se ajusta según `test_size`. |\n",
    "| random_state  | int \\| RandomState \\| None, default=None  | Controla la aleatoriedad de la división. Si se pasa un entero, los resultados son reproducibles. |\n",
    "| shuffle       | bool, default=True                        | Indica si los datos deben **mezclarse** antes de dividirse. |\n",
    "| stratify      | array-like o None, default=None           | Si no es `None`, divide los datos manteniendo la **proporción de clases**. |\n",
    "\n",
    "\n",
    "### Salida\n",
    "Devuelve una lista de longitud 2. Si es que se le pasa X & Y entonces devuelve 4 listas de la forma:\n",
    "\n",
    "X_train, X_test, y_train, y_test"
   ]
  },
  {
   "cell_type": "markdown",
   "id": "3bb80a9a",
   "metadata": {},
   "source": [
    "## KFold()\n",
    "Es un validador curzado (cross-validator) que divide un conjutno de datos en K particiones (folds).\n",
    "En cada iteración, un fold se usa como validación (test) y los k-1 folds restantes como entrenamiento (train).\n",
    "El proceso se repite K veces hasta que todos los folds han sido usados como validación una vez.\n",
    "\n",
    "| Parámetro     | Tipo / Valor por defecto                      | Descripción                                                                 |\n",
    "|---------------|-----------------------------------------------|-----------------------------------------------------------------------------|\n",
    "| n_splits      | int, default=5                               | Número de folds (particiones). Debe ser al menos 2.                         |\n",
    "| shuffle       | bool, default=False                          | Indica si se deben mezclar los datos antes de dividirlos en folds.          |\n",
    "| random_state  | int \\| RandomState \\| None, default=None      | Solo tiene efecto si `shuffle=True`. Controla la aleatoriedad y, si se pasa un entero, asegura reproducibilidad. |\n",
    "\n",
    "\n",
    "### Salida\n",
    "Regresa un iterador que produce, en cada iteración\n",
    "(train_indices, test_indices)\n",
    "donde cada uno es un arrray de índices que indican que filas del dataset corresponden a entrenamiento y prueba.\n"
   ]
  },
  {
   "cell_type": "markdown",
   "id": "73fb0ae7",
   "metadata": {},
   "source": [
    "## LeaveOneOut()\n",
    "\n",
    "Es un método de validación cruzada que usa una sola muestra como conjunto de prueba en cada iteración. Dejando así al resto de las muestras como el conjunto de entrenamiento. El proceso se repite tantas veces como muestras en el dataset.\n",
    "\n",
    "Teniendo la relación:\n",
    "LeaveOneOut = KFold(n_splits=n)\n",
    "\n",
    "| Elemento       | Tipo / Valor | Descripción |\n",
    "|----------------|--------------|-------------|\n",
    "| get_n_splits(X, y=None, groups=None) | Método | Devuelve el número de particiones (**splits**) como un entero. Siempre es igual al número de muestras (`n_samples`). |\n",
    "| split(X, y=None, groups=None) | Método | Genera los índices de entrenamiento y prueba para cada partición. <br>• **train**: índices de entrenamiento. <br>• **test**: índice de prueba (solo un elemento). |\n",
    "\n"
   ]
  },
  {
   "cell_type": "markdown",
   "id": "6465d190",
   "metadata": {},
   "source": [
    "## resample()\n",
    "\n",
    "Sirve para re-muestrear datos de manera consistente.\n",
    "Es comunmente usada en bootstrapping, y permite generar versiones re-muestreadas de los datos para validación, estimación de intervalos de confianza o balanceo de clases.\n",
    "\n",
    "### Parámetros\n",
    "\n",
    "| Parámetro | Tipo / Default | Descripción |\n",
    "|-----------|----------------|-------------|\n",
    "| *arrays | varias entradas | Todas deben de tener la misma dimensión (`n_samples`). Se re-muestrean en paralelo para mantener la correspondencia entre X e Y. |\n",
    "| replace | bool, default=True | Si `True`, muestreo con reemplazo (un mismo dato puede aparecer varias veces). Si `False`, muestreo sin reemplazo, equivalente a permutar aleatoriamente los datos. |\n",
    "| n_samples | int, default=None | Número de muestras a generar. Si `None`, se usa el tamaño original (`len(arrays)`). Si `replace=False`, no puede ser mayor al tamaño original. |\n",
    "| random_state | int \\| RandomState \\| None, default=None | Controla la aleatoriedad del muestreo. |\n",
    "| stratify | array-like, sparse, default=None | Si se especifica, asegura que el re-muestreo mantenga la proporción de clases. |\n",
    "| sample_weight | array-like, default=None | Pondera la probabilidad de que cada muestra sea seleccionada. Los valores se normalizan para que sumen 1. |\n",
    "\n",
    "\n",
    "### Salida\n",
    "Una secuencia de arrays re-muestreados, con la misma forma que los originales, pero con los datos seleccionados según la estrategia de muestreo.\n",
    "Los arrays originales no se modifican."
   ]
  },
  {
   "cell_type": "markdown",
   "id": "f239e363",
   "metadata": {},
   "source": [
    "2. Utilizando el dataset metodosDeValidacion.csv elabore un programa en python y utilizando las bibliotecas de scikit learn que realicen lo siguiente:\n",
    " - Sin mezclar los datos genere un conjunto de entrenamiento (70%) y uno de prueba (30%) con train_test_Split()\n",
    " - Con validación cruzada genere conjuntos de validación para k=6 con Kfold()\n",
    " - Genere conjuntos de validación con LeaveOneOut()\n",
    " - Utilizando Bootstrap genere 2 conjuntos de validación con conjuntos de entrenamiento de tamaño=9 con resample()\n",
    "3. El programa deberá imprimir en pantalla los conjuntos de validación generados por cada método de validación"
   ]
  },
  {
   "cell_type": "code",
   "execution_count": 103,
   "id": "745bb582",
   "metadata": {},
   "outputs": [],
   "source": [
    "# IMPORTAMOS PANDAS Y NUMPY A NIVEL GENERAL YA QUE LAS USAREMOS EN CADA PUNTO DE LA PRÁCTICA\n",
    "import pandas as pd\n",
    "import numpy as np"
   ]
  },
  {
   "cell_type": "code",
   "execution_count": 104,
   "id": "e81dfc38",
   "metadata": {},
   "outputs": [
    {
     "data": {
      "text/html": [
       "<div>\n",
       "<style scoped>\n",
       "    .dataframe tbody tr th:only-of-type {\n",
       "        vertical-align: middle;\n",
       "    }\n",
       "\n",
       "    .dataframe tbody tr th {\n",
       "        vertical-align: top;\n",
       "    }\n",
       "\n",
       "    .dataframe thead th {\n",
       "        text-align: right;\n",
       "    }\n",
       "</style>\n",
       "<table border=\"1\" class=\"dataframe\">\n",
       "  <thead>\n",
       "    <tr style=\"text-align: right;\">\n",
       "      <th></th>\n",
       "      <th>x</th>\n",
       "      <th>y</th>\n",
       "    </tr>\n",
       "  </thead>\n",
       "  <tbody>\n",
       "    <tr>\n",
       "      <th>0</th>\n",
       "      <td>1</td>\n",
       "      <td>2</td>\n",
       "    </tr>\n",
       "    <tr>\n",
       "      <th>1</th>\n",
       "      <td>2</td>\n",
       "      <td>4</td>\n",
       "    </tr>\n",
       "    <tr>\n",
       "      <th>2</th>\n",
       "      <td>3</td>\n",
       "      <td>6</td>\n",
       "    </tr>\n",
       "    <tr>\n",
       "      <th>3</th>\n",
       "      <td>4</td>\n",
       "      <td>8</td>\n",
       "    </tr>\n",
       "    <tr>\n",
       "      <th>4</th>\n",
       "      <td>5</td>\n",
       "      <td>10</td>\n",
       "    </tr>\n",
       "    <tr>\n",
       "      <th>5</th>\n",
       "      <td>6</td>\n",
       "      <td>12</td>\n",
       "    </tr>\n",
       "    <tr>\n",
       "      <th>6</th>\n",
       "      <td>7</td>\n",
       "      <td>14</td>\n",
       "    </tr>\n",
       "    <tr>\n",
       "      <th>7</th>\n",
       "      <td>8</td>\n",
       "      <td>16</td>\n",
       "    </tr>\n",
       "    <tr>\n",
       "      <th>8</th>\n",
       "      <td>9</td>\n",
       "      <td>18</td>\n",
       "    </tr>\n",
       "    <tr>\n",
       "      <th>9</th>\n",
       "      <td>10</td>\n",
       "      <td>20</td>\n",
       "    </tr>\n",
       "    <tr>\n",
       "      <th>10</th>\n",
       "      <td>11</td>\n",
       "      <td>22</td>\n",
       "    </tr>\n",
       "    <tr>\n",
       "      <th>11</th>\n",
       "      <td>12</td>\n",
       "      <td>24</td>\n",
       "    </tr>\n",
       "    <tr>\n",
       "      <th>12</th>\n",
       "      <td>13</td>\n",
       "      <td>26</td>\n",
       "    </tr>\n",
       "    <tr>\n",
       "      <th>13</th>\n",
       "      <td>14</td>\n",
       "      <td>28</td>\n",
       "    </tr>\n",
       "    <tr>\n",
       "      <th>14</th>\n",
       "      <td>15</td>\n",
       "      <td>30</td>\n",
       "    </tr>\n",
       "    <tr>\n",
       "      <th>15</th>\n",
       "      <td>16</td>\n",
       "      <td>32</td>\n",
       "    </tr>\n",
       "    <tr>\n",
       "      <th>16</th>\n",
       "      <td>17</td>\n",
       "      <td>34</td>\n",
       "    </tr>\n",
       "    <tr>\n",
       "      <th>17</th>\n",
       "      <td>18</td>\n",
       "      <td>36</td>\n",
       "    </tr>\n",
       "    <tr>\n",
       "      <th>18</th>\n",
       "      <td>19</td>\n",
       "      <td>38</td>\n",
       "    </tr>\n",
       "    <tr>\n",
       "      <th>19</th>\n",
       "      <td>20</td>\n",
       "      <td>40</td>\n",
       "    </tr>\n",
       "  </tbody>\n",
       "</table>\n",
       "</div>"
      ],
      "text/plain": [
       "     x   y\n",
       "0    1   2\n",
       "1    2   4\n",
       "2    3   6\n",
       "3    4   8\n",
       "4    5  10\n",
       "5    6  12\n",
       "6    7  14\n",
       "7    8  16\n",
       "8    9  18\n",
       "9   10  20\n",
       "10  11  22\n",
       "11  12  24\n",
       "12  13  26\n",
       "13  14  28\n",
       "14  15  30\n",
       "15  16  32\n",
       "16  17  34\n",
       "17  18  36\n",
       "18  19  38\n",
       "19  20  40"
      ]
     },
     "execution_count": 104,
     "metadata": {},
     "output_type": "execute_result"
    }
   ],
   "source": [
    "# LEEMOS EL DATASET POR MEDIO DE PANDAS\n",
    "data = pd.read_csv('metodosDeValidacion.csv')\n",
    "data"
   ]
  },
  {
   "cell_type": "code",
   "execution_count": 105,
   "id": "ccd241a9",
   "metadata": {},
   "outputs": [
    {
     "data": {
      "text/plain": [
       "[(1, 2),\n",
       " (2, 4),\n",
       " (3, 6),\n",
       " (4, 8),\n",
       " (5, 10),\n",
       " (6, 12),\n",
       " (7, 14),\n",
       " (8, 16),\n",
       " (9, 18),\n",
       " (10, 20),\n",
       " (11, 22),\n",
       " (12, 24),\n",
       " (13, 26),\n",
       " (14, 28),\n",
       " (15, 30),\n",
       " (16, 32),\n",
       " (17, 34),\n",
       " (18, 36),\n",
       " (19, 38),\n",
       " (20, 40)]"
      ]
     },
     "execution_count": 105,
     "metadata": {},
     "output_type": "execute_result"
    }
   ],
   "source": [
    "data_lista = list(data.itertuples(index=False, name=None))\n",
    "data_lista"
   ]
  },
  {
   "cell_type": "markdown",
   "id": "f4191f68",
   "metadata": {},
   "source": [
    "### Sin mezclar los datos genere un conjunto de entrenamiento (70%) y uno de prueba (30%) con train_test_Split()"
   ]
  },
  {
   "cell_type": "code",
   "execution_count": 106,
   "id": "dbc54834",
   "metadata": {},
   "outputs": [
    {
     "data": {
      "text/plain": [
       "[     x   y\n",
       " 0    1   2\n",
       " 1    2   4\n",
       " 2    3   6\n",
       " 3    4   8\n",
       " 4    5  10\n",
       " 5    6  12\n",
       " 6    7  14\n",
       " 7    8  16\n",
       " 8    9  18\n",
       " 9   10  20\n",
       " 10  11  22\n",
       " 11  12  24\n",
       " 12  13  26\n",
       " 13  14  28,\n",
       "      x   y\n",
       " 14  15  30\n",
       " 15  16  32\n",
       " 16  17  34\n",
       " 17  18  36\n",
       " 18  19  38\n",
       " 19  20  40]"
      ]
     },
     "execution_count": 106,
     "metadata": {},
     "output_type": "execute_result"
    }
   ],
   "source": [
    "from sklearn.model_selection import train_test_split # Importamos el método\n",
    "train_test_split(data, train_size=0.7, test_size=0.3, shuffle=False)"
   ]
  },
  {
   "cell_type": "code",
   "execution_count": 107,
   "id": "ab64481d",
   "metadata": {},
   "outputs": [
    {
     "name": "stdout",
     "output_type": "stream",
     "text": [
      "Conjunto de entrenamiento con tamaño 14:\n",
      "      x   y\n",
      "0    1   2\n",
      "1    2   4\n",
      "2    3   6\n",
      "3    4   8\n",
      "4    5  10\n",
      "5    6  12\n",
      "6    7  14\n",
      "7    8  16\n",
      "8    9  18\n",
      "9   10  20\n",
      "10  11  22\n",
      "11  12  24\n",
      "12  13  26\n",
      "13  14  28\n",
      "Conjunto de pruebas con tamaño 6:\n",
      "      x   y\n",
      "14  15  30\n",
      "15  16  32\n",
      "16  17  34\n",
      "17  18  36\n",
      "18  19  38\n",
      "19  20  40\n"
     ]
    }
   ],
   "source": [
    "train, test = train_test_split(data, train_size=0.7, test_size=0.3, shuffle=False) # Guardamos cada conjunto como variable\n",
    "print(f\"Conjunto de entrenamiento con tamaño {len(train)}:\\n\", train)\n",
    "print(f\"Conjunto de pruebas con tamaño {len(test)}:\\n\", test)\n"
   ]
  },
  {
   "cell_type": "markdown",
   "id": "7a2f8224",
   "metadata": {},
   "source": [
    "### Con validación cruzada genere conjuntos de validación para k=6 con Kfold()"
   ]
  },
  {
   "cell_type": "code",
   "execution_count": 108,
   "id": "c3a19899",
   "metadata": {},
   "outputs": [
    {
     "data": {
      "text/plain": [
       "KFold(n_splits=6, random_state=None, shuffle=True)"
      ]
     },
     "execution_count": 108,
     "metadata": {},
     "output_type": "execute_result"
    }
   ],
   "source": [
    "from sklearn.model_selection import KFold # Importamos la Clase KFold\n",
    "kf = KFold(n_splits=6, shuffle=True) # Creamos un objeto con nuestro numero de conjuntos de validación (6) y las ordenes de shuffle\n",
    "kf"
   ]
  },
  {
   "cell_type": "code",
   "execution_count": 109,
   "id": "54b6e6aa",
   "metadata": {},
   "outputs": [
    {
     "name": "stdout",
     "output_type": "stream",
     "text": [
      "Número de folds: 6\n"
     ]
    }
   ],
   "source": [
    "folds = kf.get_n_splits(train)\n",
    "print(f\"Número de folds: {folds}\")"
   ]
  },
  {
   "cell_type": "code",
   "execution_count": 110,
   "id": "47c381f3",
   "metadata": {},
   "outputs": [
    {
     "data": {
      "text/plain": [
       "(<generator object _BaseKFold.split at 0x000002AD64515140>,\n",
       " [(array([ 0,  1,  2,  3,  4,  5,  6,  8,  9, 10, 12]), array([ 7, 11, 13])),\n",
       "  (array([ 1,  2,  4,  6,  7,  8,  9, 10, 11, 12, 13]), array([0, 3, 5])),\n",
       "  (array([ 0,  1,  2,  3,  4,  5,  7,  8, 10, 11, 12, 13]), array([6, 9])),\n",
       "  (array([ 0,  2,  3,  4,  5,  6,  7,  8,  9, 10, 11, 13]), array([ 1, 12])),\n",
       "  (array([ 0,  1,  2,  3,  4,  5,  6,  7,  9, 11, 12, 13]), array([ 8, 10])),\n",
       "  (array([ 0,  1,  3,  5,  6,  7,  8,  9, 10, 11, 12, 13]), array([2, 4]))])"
      ]
     },
     "execution_count": 110,
     "metadata": {},
     "output_type": "execute_result"
    }
   ],
   "source": [
    "kf.split(train), list(kf.split(train)) # Si convertimos a lista nos deja ver todos los INDICES de losconjutnos para los K folds"
   ]
  },
  {
   "cell_type": "code",
   "execution_count": 111,
   "id": "eafaa420",
   "metadata": {},
   "outputs": [
    {
     "name": "stdout",
     "output_type": "stream",
     "text": [
      "Fold 1:\n",
      "  Train: index=[ 0  1  2  3  5  7  9 10 11 12 13] len = 11\n",
      "  Test:  index=[4 6 8] len = 3\n",
      "  (1, 2)  (2, 4)  (3, 6)  (4, 8)  (6, 12)  (8, 16)  (10, 20)  (11, 22)  (12, 24)  (13, 26)  (14, 28)\n",
      "  (5, 10)  (7, 14)  (9, 18)\n",
      "\n",
      "Fold 2:\n",
      "  Train: index=[ 0  2  4  5  6  7  8  9 10 11 12] len = 11\n",
      "  Test:  index=[ 1  3 13] len = 3\n",
      "  (1, 2)  (3, 6)  (5, 10)  (6, 12)  (7, 14)  (8, 16)  (9, 18)  (10, 20)  (11, 22)  (12, 24)  (13, 26)\n",
      "  (2, 4)  (4, 8)  (14, 28)\n",
      "\n",
      "Fold 3:\n",
      "  Train: index=[ 1  3  4  5  6  7  8  9 10 11 12 13] len = 12\n",
      "  Test:  index=[0 2] len = 2\n",
      "  (2, 4)  (4, 8)  (5, 10)  (6, 12)  (7, 14)  (8, 16)  (9, 18)  (10, 20)  (11, 22)  (12, 24)  (13, 26)  (14, 28)\n",
      "  (1, 2)  (3, 6)\n",
      "\n",
      "Fold 4:\n",
      "  Train: index=[ 0  1  2  3  4  6  7  8 10 11 12 13] len = 12\n",
      "  Test:  index=[5 9] len = 2\n",
      "  (1, 2)  (2, 4)  (3, 6)  (4, 8)  (5, 10)  (7, 14)  (8, 16)  (9, 18)  (11, 22)  (12, 24)  (13, 26)  (14, 28)\n",
      "  (6, 12)  (10, 20)\n",
      "\n",
      "Fold 5:\n",
      "  Train: index=[ 0  1  2  3  4  5  6  8  9 11 12 13] len = 12\n",
      "  Test:  index=[ 7 10] len = 2\n",
      "  (1, 2)  (2, 4)  (3, 6)  (4, 8)  (5, 10)  (6, 12)  (7, 14)  (9, 18)  (10, 20)  (12, 24)  (13, 26)  (14, 28)\n",
      "  (8, 16)  (11, 22)\n",
      "\n",
      "Fold 6:\n",
      "  Train: index=[ 0  1  2  3  4  5  6  7  8  9 10 13] len = 12\n",
      "  Test:  index=[11 12] len = 2\n",
      "  (1, 2)  (2, 4)  (3, 6)  (4, 8)  (5, 10)  (6, 12)  (7, 14)  (8, 16)  (9, 18)  (10, 20)  (11, 22)  (14, 28)\n",
      "  (12, 24)  (13, 26)\n",
      "\n"
     ]
    }
   ],
   "source": [
    "for i, (train_index, test_index) in enumerate(kf.split(train)):\n",
    "    print(f\"Fold {i + 1}:\")\n",
    "    print(f\"  Train: index={train_index} len = {len(train_index)}\")\n",
    "    print(f\"  Test:  index={test_index} len = {len(test_index)}\")\n",
    "    for train_i in train_index:\n",
    "        print(f\"  {data_lista[train_i]}\", end=\"\")\n",
    "    print(\"\")\n",
    "    for test_i in test_index:\n",
    "        print(f\"  {data_lista[test_i]}\", end=\"\")\n",
    "    print(\"\\n\")"
   ]
  },
  {
   "cell_type": "markdown",
   "id": "ddceea73",
   "metadata": {},
   "source": [
    "### Genere conjuntos de validación con LeaveOneOut()"
   ]
  },
  {
   "cell_type": "code",
   "execution_count": 112,
   "id": "f24dcf9c",
   "metadata": {},
   "outputs": [
    {
     "data": {
      "text/plain": [
       "LeaveOneOut()"
      ]
     },
     "execution_count": 112,
     "metadata": {},
     "output_type": "execute_result"
    }
   ],
   "source": [
    "from sklearn.model_selection import LeaveOneOut\n",
    "loo = LeaveOneOut()\n",
    "loo"
   ]
  },
  {
   "cell_type": "code",
   "execution_count": 113,
   "id": "2a73f456",
   "metadata": {},
   "outputs": [
    {
     "name": "stdout",
     "output_type": "stream",
     "text": [
      "Número de folds: 14 = 14 longitud del dataset\n"
     ]
    }
   ],
   "source": [
    "folds = loo.get_n_splits(train)\n",
    "print(f\"Número de folds: {folds} = {len(train)} longitud del dataset\")"
   ]
  },
  {
   "cell_type": "code",
   "execution_count": 114,
   "id": "b12063c5",
   "metadata": {},
   "outputs": [
    {
     "name": "stdout",
     "output_type": "stream",
     "text": [
      "Fold 1:\n",
      "  Train: index=[ 1  2  3  4  5  6  7  8  9 10 11 12 13] len = 13\n",
      "  Test:  index=[0] len = 1\n",
      "  (2, 4)  (3, 6)  (4, 8)  (5, 10)  (6, 12)  (7, 14)  (8, 16)  (9, 18)  (10, 20)  (11, 22)  (12, 24)  (13, 26)  (14, 28)\n",
      "  (1, 2)\n",
      "\n",
      "Fold 2:\n",
      "  Train: index=[ 0  2  3  4  5  6  7  8  9 10 11 12 13] len = 13\n",
      "  Test:  index=[1] len = 1\n",
      "  (1, 2)  (3, 6)  (4, 8)  (5, 10)  (6, 12)  (7, 14)  (8, 16)  (9, 18)  (10, 20)  (11, 22)  (12, 24)  (13, 26)  (14, 28)\n",
      "  (2, 4)\n",
      "\n",
      "Fold 3:\n",
      "  Train: index=[ 0  1  3  4  5  6  7  8  9 10 11 12 13] len = 13\n",
      "  Test:  index=[2] len = 1\n",
      "  (1, 2)  (2, 4)  (4, 8)  (5, 10)  (6, 12)  (7, 14)  (8, 16)  (9, 18)  (10, 20)  (11, 22)  (12, 24)  (13, 26)  (14, 28)\n",
      "  (3, 6)\n",
      "\n",
      "Fold 4:\n",
      "  Train: index=[ 0  1  2  4  5  6  7  8  9 10 11 12 13] len = 13\n",
      "  Test:  index=[3] len = 1\n",
      "  (1, 2)  (2, 4)  (3, 6)  (5, 10)  (6, 12)  (7, 14)  (8, 16)  (9, 18)  (10, 20)  (11, 22)  (12, 24)  (13, 26)  (14, 28)\n",
      "  (4, 8)\n",
      "\n",
      "Fold 5:\n",
      "  Train: index=[ 0  1  2  3  5  6  7  8  9 10 11 12 13] len = 13\n",
      "  Test:  index=[4] len = 1\n",
      "  (1, 2)  (2, 4)  (3, 6)  (4, 8)  (6, 12)  (7, 14)  (8, 16)  (9, 18)  (10, 20)  (11, 22)  (12, 24)  (13, 26)  (14, 28)\n",
      "  (5, 10)\n",
      "\n",
      "Fold 6:\n",
      "  Train: index=[ 0  1  2  3  4  6  7  8  9 10 11 12 13] len = 13\n",
      "  Test:  index=[5] len = 1\n",
      "  (1, 2)  (2, 4)  (3, 6)  (4, 8)  (5, 10)  (7, 14)  (8, 16)  (9, 18)  (10, 20)  (11, 22)  (12, 24)  (13, 26)  (14, 28)\n",
      "  (6, 12)\n",
      "\n",
      "Fold 7:\n",
      "  Train: index=[ 0  1  2  3  4  5  7  8  9 10 11 12 13] len = 13\n",
      "  Test:  index=[6] len = 1\n",
      "  (1, 2)  (2, 4)  (3, 6)  (4, 8)  (5, 10)  (6, 12)  (8, 16)  (9, 18)  (10, 20)  (11, 22)  (12, 24)  (13, 26)  (14, 28)\n",
      "  (7, 14)\n",
      "\n",
      "Fold 8:\n",
      "  Train: index=[ 0  1  2  3  4  5  6  8  9 10 11 12 13] len = 13\n",
      "  Test:  index=[7] len = 1\n",
      "  (1, 2)  (2, 4)  (3, 6)  (4, 8)  (5, 10)  (6, 12)  (7, 14)  (9, 18)  (10, 20)  (11, 22)  (12, 24)  (13, 26)  (14, 28)\n",
      "  (8, 16)\n",
      "\n",
      "Fold 9:\n",
      "  Train: index=[ 0  1  2  3  4  5  6  7  9 10 11 12 13] len = 13\n",
      "  Test:  index=[8] len = 1\n",
      "  (1, 2)  (2, 4)  (3, 6)  (4, 8)  (5, 10)  (6, 12)  (7, 14)  (8, 16)  (10, 20)  (11, 22)  (12, 24)  (13, 26)  (14, 28)\n",
      "  (9, 18)\n",
      "\n",
      "Fold 10:\n",
      "  Train: index=[ 0  1  2  3  4  5  6  7  8 10 11 12 13] len = 13\n",
      "  Test:  index=[9] len = 1\n",
      "  (1, 2)  (2, 4)  (3, 6)  (4, 8)  (5, 10)  (6, 12)  (7, 14)  (8, 16)  (9, 18)  (11, 22)  (12, 24)  (13, 26)  (14, 28)\n",
      "  (10, 20)\n",
      "\n",
      "Fold 11:\n",
      "  Train: index=[ 0  1  2  3  4  5  6  7  8  9 11 12 13] len = 13\n",
      "  Test:  index=[10] len = 1\n",
      "  (1, 2)  (2, 4)  (3, 6)  (4, 8)  (5, 10)  (6, 12)  (7, 14)  (8, 16)  (9, 18)  (10, 20)  (12, 24)  (13, 26)  (14, 28)\n",
      "  (11, 22)\n",
      "\n",
      "Fold 12:\n",
      "  Train: index=[ 0  1  2  3  4  5  6  7  8  9 10 12 13] len = 13\n",
      "  Test:  index=[11] len = 1\n",
      "  (1, 2)  (2, 4)  (3, 6)  (4, 8)  (5, 10)  (6, 12)  (7, 14)  (8, 16)  (9, 18)  (10, 20)  (11, 22)  (13, 26)  (14, 28)\n",
      "  (12, 24)\n",
      "\n",
      "Fold 13:\n",
      "  Train: index=[ 0  1  2  3  4  5  6  7  8  9 10 11 13] len = 13\n",
      "  Test:  index=[12] len = 1\n",
      "  (1, 2)  (2, 4)  (3, 6)  (4, 8)  (5, 10)  (6, 12)  (7, 14)  (8, 16)  (9, 18)  (10, 20)  (11, 22)  (12, 24)  (14, 28)\n",
      "  (13, 26)\n",
      "\n",
      "Fold 14:\n",
      "  Train: index=[ 0  1  2  3  4  5  6  7  8  9 10 11 12] len = 13\n",
      "  Test:  index=[13] len = 1\n",
      "  (1, 2)  (2, 4)  (3, 6)  (4, 8)  (5, 10)  (6, 12)  (7, 14)  (8, 16)  (9, 18)  (10, 20)  (11, 22)  (12, 24)  (13, 26)\n",
      "  (14, 28)\n",
      "\n"
     ]
    }
   ],
   "source": [
    "data_lista = list(train.itertuples(index=False, name=None))\n",
    "for i, (train_index, test_index) in enumerate(loo.split(train)):\n",
    "    print(f\"Fold {i + 1}:\")\n",
    "    print(f\"  Train: index={train_index} len = {len(train_index)}\")\n",
    "    print(f\"  Test:  index={test_index} len = {len(test_index)}\")\n",
    "    for train_i in train_index:\n",
    "        print(f\"  {data_lista[train_i]}\", end=\"\")\n",
    "    print(\"\")\n",
    "    for test_i in test_index:\n",
    "        print(f\"  {data_lista[test_i]}\", end=\"\")\n",
    "    print(\"\\n\")\n"
   ]
  },
  {
   "cell_type": "markdown",
   "id": "a2957294",
   "metadata": {},
   "source": [
    "### Utilizando Bootstrap genere 2 conjuntos de validación con conjuntos de entrenamiento de tamaño=9 con resample()"
   ]
  },
  {
   "cell_type": "code",
   "execution_count": 115,
   "id": "32b3ff93",
   "metadata": {},
   "outputs": [
    {
     "data": {
      "text/html": [
       "<div>\n",
       "<style scoped>\n",
       "    .dataframe tbody tr th:only-of-type {\n",
       "        vertical-align: middle;\n",
       "    }\n",
       "\n",
       "    .dataframe tbody tr th {\n",
       "        vertical-align: top;\n",
       "    }\n",
       "\n",
       "    .dataframe thead th {\n",
       "        text-align: right;\n",
       "    }\n",
       "</style>\n",
       "<table border=\"1\" class=\"dataframe\">\n",
       "  <thead>\n",
       "    <tr style=\"text-align: right;\">\n",
       "      <th></th>\n",
       "      <th>x</th>\n",
       "      <th>y</th>\n",
       "    </tr>\n",
       "  </thead>\n",
       "  <tbody>\n",
       "    <tr>\n",
       "      <th>1</th>\n",
       "      <td>2</td>\n",
       "      <td>4</td>\n",
       "    </tr>\n",
       "    <tr>\n",
       "      <th>12</th>\n",
       "      <td>13</td>\n",
       "      <td>26</td>\n",
       "    </tr>\n",
       "  </tbody>\n",
       "</table>\n",
       "</div>"
      ],
      "text/plain": [
       "     x   y\n",
       "1    2   4\n",
       "12  13  26"
      ]
     },
     "execution_count": 115,
     "metadata": {},
     "output_type": "execute_result"
    }
   ],
   "source": [
    "from sklearn.utils import resample\n",
    "resample(train, n_samples=2)"
   ]
  },
  {
   "cell_type": "code",
   "execution_count": 122,
   "id": "455925a7",
   "metadata": {},
   "outputs": [
    {
     "name": "stdout",
     "output_type": "stream",
     "text": [
      "Bootstrap 1\n",
      "Subconjunto de entrenamiento con longitud 9:\n",
      "     x   y\n",
      "3    4   8\n",
      "7    8  16\n",
      "5    6  12\n",
      "5    6  12\n",
      "7    8  16\n",
      "12  13  26\n",
      "2    3   6\n",
      "9   10  20\n",
      "13  14  28\n",
      "Subconjunto de pruebas con longitud 7:\n",
      "     x   y\n",
      "0    1   2\n",
      "1    2   4\n",
      "4    5  10\n",
      "6    7  14\n",
      "8    9  18\n",
      "10  11  22\n",
      "11  12  24\n",
      "\n",
      "Bootstrap 2\n",
      "Subconjunto de entrenamiento con longitud 9:\n",
      "     x   y\n",
      "5    6  12\n",
      "1    2   4\n",
      "8    9  18\n",
      "13  14  28\n",
      "4    5  10\n",
      "1    2   4\n",
      "1    2   4\n",
      "6    7  14\n",
      "1    2   4\n",
      "Subconjunto de pruebas con longitud 8:\n",
      "     x   y\n",
      "0    1   2\n",
      "2    3   6\n",
      "3    4   8\n",
      "7    8  16\n",
      "9   10  20\n",
      "10  11  22\n",
      "11  12  24\n",
      "12  13  26\n",
      "\n"
     ]
    }
   ],
   "source": [
    "# Generar 2 conjuntos de bootstrap\n",
    "for i in range(2):\n",
    "    # Conjunto de entrenamiento de tamaño 9\n",
    "    b_train = resample(train, n_samples=9, replace=True)\n",
    "\n",
    "    # Subconjunto de validación = filas de train que NO están en b_train\n",
    "    mask = ~train.index.isin(b_train.index)\n",
    "    test_b = train[mask]\n",
    "\n",
    "    print(f\"Bootstrap {i+1}\")\n",
    "    print(f\"Subconjunto de entrenamiento con longitud {len(b_train)}:\\n{b_train}\")\n",
    "    print(f\"Subconjunto de pruebas con longitud {len(test_b)}:\\n{test_b}\\n\")"
   ]
  }
 ],
 "metadata": {
  "kernelspec": {
   "display_name": "Python 3",
   "language": "python",
   "name": "python3"
  },
  "language_info": {
   "codemirror_mode": {
    "name": "ipython",
    "version": 3
   },
   "file_extension": ".py",
   "mimetype": "text/x-python",
   "name": "python",
   "nbconvert_exporter": "python",
   "pygments_lexer": "ipython3",
   "version": "3.12.10"
  }
 },
 "nbformat": 4,
 "nbformat_minor": 5
}
