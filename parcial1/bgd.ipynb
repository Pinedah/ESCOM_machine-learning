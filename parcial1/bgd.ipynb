{
 "cells": [
  {
   "cell_type": "code",
   "execution_count": 1,
   "id": "d5c6feda",
   "metadata": {},
   "outputs": [],
   "source": [
    "import pandas as pd\n",
    "import numpy as np"
   ]
  },
  {
   "cell_type": "code",
   "execution_count": 6,
   "id": "aefbdbbd",
   "metadata": {},
   "outputs": [
    {
     "data": {
      "text/plain": [
       "(matrix([[1, 1, 1],\n",
       "         [1, 2, 3],\n",
       "         [1, 3, 5],\n",
       "         [1, 4, 7],\n",
       "         [1, 5, 9]]),\n",
       " matrix([[ 5],\n",
       "         [13],\n",
       "         [21],\n",
       "         [29],\n",
       "         [37]]))"
      ]
     },
     "execution_count": 6,
     "metadata": {},
     "output_type": "execute_result"
    }
   ],
   "source": [
    "X = np.matrix([[1, 1, 1],\n",
    "              [1, 2, 3],\n",
    "              [1, 3, 5],\n",
    "              [1, 4, 7],\n",
    "              [1, 5, 9]])\n",
    "Y = np.matrix([[5],\n",
    "               [13],\n",
    "               [21],\n",
    "               [29],\n",
    "               [37]])\n",
    "X, Y"
   ]
  },
  {
   "cell_type": "code",
   "execution_count": null,
   "id": "7839ad5d",
   "metadata": {},
   "outputs": [],
   "source": [
    "def bgd(W, X, Y, alpha):\n",
    "    "
   ]
  }
 ],
 "metadata": {
  "kernelspec": {
   "display_name": "Python 3",
   "language": "python",
   "name": "python3"
  },
  "language_info": {
   "codemirror_mode": {
    "name": "ipython",
    "version": 3
   },
   "file_extension": ".py",
   "mimetype": "text/x-python",
   "name": "python",
   "nbconvert_exporter": "python",
   "pygments_lexer": "ipython3",
   "version": "3.12.10"
  }
 },
 "nbformat": 4,
 "nbformat_minor": 5
}
