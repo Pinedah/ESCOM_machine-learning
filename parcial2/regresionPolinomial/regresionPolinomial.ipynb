{
 "cells": [
  {
   "cell_type": "markdown",
   "id": "89550ff9",
   "metadata": {},
   "source": [
    "# Práctica: Regresión Polinomial\n",
    "**Dra. Consuelo Varinia García Mendoza**  \n",
    "**Alumno:** Francisco Pineda Hernández  \n",
    "**Fecha:** 22 de octubre de 2025\n",
    "\n",
    "---\n",
    "\n",
    "## Objetivo\n",
    "Implementar y comparar diferentes modelos de regresión (lineal y polinomial) utilizando dos métodos de optimización: OLS (Ordinary Least Squares) y SGD (Stochastic Gradient Descent). Se analizarán dos conjuntos de datos distintos para evaluar el desempeño de cada modelo."
   ]
  },
  {
   "cell_type": "markdown",
   "id": "5e279aca",
   "metadata": {},
   "source": [
    "---\n",
    "## Parte 1: Análisis del Dataset datos.csv\n",
    "En esta sección se implementarán 6 modelos de regresión distintos:\n",
    "- 3 modelos con OLS (lineal, polinomial grado 2 y grado 3)\n",
    "- 3 modelos con SGD (lineal, polinomial grado 2 y grado 3)\n",
    "\n",
    "Se dividirá el dataset en 70% entrenamiento y 30% prueba."
   ]
  },
  {
   "cell_type": "markdown",
   "id": "cfbb7b65",
   "metadata": {},
   "source": [
    "### 1.1 Importación de librerías"
   ]
  },
  {
   "cell_type": "code",
   "execution_count": 46,
   "id": "b7e8c58a",
   "metadata": {},
   "outputs": [
    {
     "name": "stdout",
     "output_type": "stream",
     "text": [
      "Librerías importadas correctamente\n"
     ]
    }
   ],
   "source": [
    "# Importar librerías necesarias\n",
    "import pandas as pd\n",
    "import numpy as np\n",
    "import matplotlib.pyplot as plt\n",
    "import warnings\n",
    "\n",
    "# Modelos de regresión\n",
    "from sklearn.linear_model import LinearRegression, SGDRegressor\n",
    "from sklearn.preprocessing import PolynomialFeatures, StandardScaler, RobustScaler\n",
    "\n",
    "# División de datos y métricas\n",
    "from sklearn.model_selection import train_test_split\n",
    "from sklearn.metrics import mean_squared_error, r2_score\n",
    "\n",
    "# Configuración\n",
    "warnings.filterwarnings('ignore')\n",
    "plt.style.use('seaborn-v0_8-darkgrid')\n",
    "np.random.seed(0)\n",
    "\n",
    "print(\"Librerías importadas correctamente\")"
   ]
  },
  {
   "cell_type": "markdown",
   "id": "1c1fa9ef",
   "metadata": {},
   "source": [
    "### 1.2 Carga y división del dataset"
   ]
  },
  {
   "cell_type": "code",
   "execution_count": 47,
   "id": "fba6852d",
   "metadata": {},
   "outputs": [
    {
     "name": "stdout",
     "output_type": "stream",
     "text": [
      "✓ Dataset 'datos.csv' cargado exitosamente\n",
      "  Dimensiones: (100, 2)\n",
      "\n",
      "Primeras filas del dataset:\n"
     ]
    },
    {
     "data": {
      "text/html": [
       "<div>\n",
       "<style scoped>\n",
       "    .dataframe tbody tr th:only-of-type {\n",
       "        vertical-align: middle;\n",
       "    }\n",
       "\n",
       "    .dataframe tbody tr th {\n",
       "        vertical-align: top;\n",
       "    }\n",
       "\n",
       "    .dataframe thead th {\n",
       "        text-align: right;\n",
       "    }\n",
       "</style>\n",
       "<table border=\"1\" class=\"dataframe\">\n",
       "  <thead>\n",
       "    <tr style=\"text-align: right;\">\n",
       "      <th></th>\n",
       "      <th>x</th>\n",
       "      <th>y</th>\n",
       "    </tr>\n",
       "  </thead>\n",
       "  <tbody>\n",
       "    <tr>\n",
       "      <th>0</th>\n",
       "      <td>-3.292157</td>\n",
       "      <td>-44.608971</td>\n",
       "    </tr>\n",
       "    <tr>\n",
       "      <th>1</th>\n",
       "      <td>-0.936214</td>\n",
       "      <td>0.623178</td>\n",
       "    </tr>\n",
       "    <tr>\n",
       "      <th>2</th>\n",
       "      <td>-3.602674</td>\n",
       "      <td>-58.873048</td>\n",
       "    </tr>\n",
       "    <tr>\n",
       "      <th>3</th>\n",
       "      <td>-0.850265</td>\n",
       "      <td>-6.057589</td>\n",
       "    </tr>\n",
       "    <tr>\n",
       "      <th>4</th>\n",
       "      <td>2.309657</td>\n",
       "      <td>-3.967128</td>\n",
       "    </tr>\n",
       "  </tbody>\n",
       "</table>\n",
       "</div>"
      ],
      "text/plain": [
       "          x          y\n",
       "0 -3.292157 -44.608971\n",
       "1 -0.936214   0.623178\n",
       "2 -3.602674 -58.873048\n",
       "3 -0.850265  -6.057589\n",
       "4  2.309657  -3.967128"
      ]
     },
     "metadata": {},
     "output_type": "display_data"
    },
    {
     "name": "stdout",
     "output_type": "stream",
     "text": [
      "\n",
      "División completada:\n",
      "  Conjunto de entrenamiento: 70 muestras\n",
      "  Conjunto de prueba: 30 muestras\n"
     ]
    }
   ],
   "source": [
    "# Cargar el dataset (archivo por defecto: datos.csv)\n",
    "archivo = 'datos.csv'\n",
    "\n",
    "# Cargar el dataset\n",
    "try:\n",
    "    datos = pd.read_csv(archivo)\n",
    "    print(f\"✓ Dataset '{archivo}' cargado exitosamente\")\n",
    "    print(f\"  Dimensiones: {datos.shape}\")\n",
    "    print(f\"\\nPrimeras filas del dataset:\")\n",
    "    display(datos.head())\n",
    "except FileNotFoundError:\n",
    "    print(f\"Error: No se encontró el archivo '{archivo}'\")\n",
    "    raise\n",
    "\n",
    "# Separar características y variable objetivo\n",
    "X = datos[['x']]  # Debe ser un DataFrame\n",
    "y = datos['y']    # Serie\n",
    "\n",
    "# División: 70% entrenamiento, 30% prueba\n",
    "X_train, X_test, y_train, y_test = train_test_split(\n",
    "    X, y, train_size=0.7, test_size=0.3, shuffle=True, random_state=0\n",
    ")\n",
    "\n",
    "print(f\"\\nDivisión completada:\")\n",
    "print(f\"  Conjunto de entrenamiento: {X_train.shape[0]} muestras\")\n",
    "print(f\"  Conjunto de prueba: {X_test.shape[0]} muestras\")"
   ]
  },
  {
   "cell_type": "markdown",
   "id": "4454a45a",
   "metadata": {},
   "source": [
    "### 1.3 Parámetros para modelos SGD"
   ]
  },
  {
   "cell_type": "code",
   "execution_count": 48,
   "id": "32e7d661",
   "metadata": {},
   "outputs": [
    {
     "name": "stdout",
     "output_type": "stream",
     "text": [
      "  Parámetros configurados para SGD:\n",
      "  Iteraciones: 10000\n",
      "  Alfa (learning rate): 0.01\n"
     ]
    }
   ],
   "source": [
    "# Parámetros para SGD (valores por defecto)\n",
    "max_iter = 10000\n",
    "alpha = 0.01\n",
    "\n",
    "print(f\"  Parámetros configurados para SGD:\")\n",
    "print(f\"  Iteraciones: {max_iter}\")\n",
    "print(f\"  Alfa (learning rate): {alpha}\")"
   ]
  },
  {
   "cell_type": "markdown",
   "id": "815f1b41",
   "metadata": {},
   "source": [
    "### 1.4 Estructura para almacenar resultados"
   ]
  },
  {
   "cell_type": "code",
   "execution_count": 49,
   "id": "16959a82",
   "metadata": {},
   "outputs": [],
   "source": [
    "# Lista para almacenar los resultados de todos los modelos\n",
    "resultados_parte1 = []"
   ]
  },
  {
   "cell_type": "markdown",
   "id": "b0038879",
   "metadata": {},
   "source": [
    "### 1.5 Modelo 1: Regresión Lineal con OLS"
   ]
  },
  {
   "cell_type": "code",
   "execution_count": 50,
   "id": "8a0ac769",
   "metadata": {},
   "outputs": [
    {
     "ename": "AttributeError",
     "evalue": "module 'numpy' has no attribute 'matrix'",
     "output_type": "error",
     "traceback": [
      "\u001b[31m---------------------------------------------------------------------------\u001b[39m",
      "\u001b[31mAttributeError\u001b[39m                            Traceback (most recent call last)",
      "\u001b[36mCell\u001b[39m\u001b[36m \u001b[39m\u001b[32mIn[50]\u001b[39m\u001b[32m, line 3\u001b[39m\n\u001b[32m      1\u001b[39m \u001b[38;5;66;03m# Crear y entrenar el modelo de regresión lineal\u001b[39;00m\n\u001b[32m      2\u001b[39m modelo_lineal_ols = LinearRegression()\n\u001b[32m----> \u001b[39m\u001b[32m3\u001b[39m \u001b[43mmodelo_lineal_ols\u001b[49m\u001b[43m.\u001b[49m\u001b[43mfit\u001b[49m\u001b[43m(\u001b[49m\u001b[43mX_train\u001b[49m\u001b[43m,\u001b[49m\u001b[43m \u001b[49m\u001b[43my_train\u001b[49m\u001b[43m)\u001b[49m\n\u001b[32m      5\u001b[39m \u001b[38;5;66;03m# Realizar predicciones\u001b[39;00m\n\u001b[32m      6\u001b[39m y_pred_lineal_ols = modelo_lineal_ols.predict(X_test)\n",
      "\u001b[36mFile \u001b[39m\u001b[32mc:\\Users\\packo\\AppData\\Local\\Programs\\Python\\Python312\\Lib\\site-packages\\sklearn\\base.py:1365\u001b[39m, in \u001b[36m_fit_context.<locals>.decorator.<locals>.wrapper\u001b[39m\u001b[34m(estimator, *args, **kwargs)\u001b[39m\n\u001b[32m   1358\u001b[39m     estimator._validate_params()\n\u001b[32m   1360\u001b[39m \u001b[38;5;28;01mwith\u001b[39;00m config_context(\n\u001b[32m   1361\u001b[39m     skip_parameter_validation=(\n\u001b[32m   1362\u001b[39m         prefer_skip_nested_validation \u001b[38;5;129;01mor\u001b[39;00m global_skip_validation\n\u001b[32m   1363\u001b[39m     )\n\u001b[32m   1364\u001b[39m ):\n\u001b[32m-> \u001b[39m\u001b[32m1365\u001b[39m     \u001b[38;5;28;01mreturn\u001b[39;00m \u001b[43mfit_method\u001b[49m\u001b[43m(\u001b[49m\u001b[43mestimator\u001b[49m\u001b[43m,\u001b[49m\u001b[43m \u001b[49m\u001b[43m*\u001b[49m\u001b[43margs\u001b[49m\u001b[43m,\u001b[49m\u001b[43m \u001b[49m\u001b[43m*\u001b[49m\u001b[43m*\u001b[49m\u001b[43mkwargs\u001b[49m\u001b[43m)\u001b[49m\n",
      "\u001b[36mFile \u001b[39m\u001b[32mc:\\Users\\packo\\AppData\\Local\\Programs\\Python\\Python312\\Lib\\site-packages\\sklearn\\linear_model\\_base.py:705\u001b[39m, in \u001b[36mLinearRegression.fit\u001b[39m\u001b[34m(self, X, y, sample_weight)\u001b[39m\n\u001b[32m    702\u001b[39m     \u001b[38;5;28mself\u001b[39m.coef_ = \u001b[38;5;28mself\u001b[39m.coef_.T\n\u001b[32m    704\u001b[39m \u001b[38;5;28;01mif\u001b[39;00m y.ndim == \u001b[32m1\u001b[39m:\n\u001b[32m--> \u001b[39m\u001b[32m705\u001b[39m     \u001b[38;5;28mself\u001b[39m.coef_ = \u001b[43mnp\u001b[49m\u001b[43m.\u001b[49m\u001b[43mravel\u001b[49m\u001b[43m(\u001b[49m\u001b[38;5;28;43mself\u001b[39;49m\u001b[43m.\u001b[49m\u001b[43mcoef_\u001b[49m\u001b[43m)\u001b[49m\n\u001b[32m    706\u001b[39m \u001b[38;5;28mself\u001b[39m._set_intercept(X_offset, y_offset, X_scale)\n\u001b[32m    707\u001b[39m \u001b[38;5;28;01mreturn\u001b[39;00m \u001b[38;5;28mself\u001b[39m\n",
      "\u001b[36mFile \u001b[39m\u001b[32mc:\\Users\\packo\\AppData\\Local\\Programs\\Python\\Python312\\Lib\\site-packages\\numpy\\core\\fromnumeric.py:1871\u001b[39m, in \u001b[36mravel\u001b[39m\u001b[34m(a, order)\u001b[39m\n\u001b[32m   1768\u001b[39m \u001b[38;5;129m@array_function_dispatch\u001b[39m(_ravel_dispatcher)\n\u001b[32m   1769\u001b[39m \u001b[38;5;28;01mdef\u001b[39;00m\u001b[38;5;250m \u001b[39m\u001b[34mravel\u001b[39m(a, order=\u001b[33m'\u001b[39m\u001b[33mC\u001b[39m\u001b[33m'\u001b[39m):\n\u001b[32m   1770\u001b[39m \u001b[38;5;250m    \u001b[39m\u001b[33;03m\"\"\"Return a contiguous flattened array.\u001b[39;00m\n\u001b[32m   1771\u001b[39m \n\u001b[32m   1772\u001b[39m \u001b[33;03m    A 1-D array, containing the elements of the input, is returned.  A copy is\u001b[39;00m\n\u001b[32m   (...)\u001b[39m\u001b[32m   1869\u001b[39m \n\u001b[32m   1870\u001b[39m \u001b[33;03m    \"\"\"\u001b[39;00m\n\u001b[32m-> \u001b[39m\u001b[32m1871\u001b[39m     \u001b[38;5;28;01mif\u001b[39;00m \u001b[38;5;28misinstance\u001b[39m(a, \u001b[43mnp\u001b[49m\u001b[43m.\u001b[49m\u001b[43mmatrix\u001b[49m):\n\u001b[32m   1872\u001b[39m         \u001b[38;5;28;01mreturn\u001b[39;00m asarray(a).ravel(order=order)\n\u001b[32m   1873\u001b[39m     \u001b[38;5;28;01melse\u001b[39;00m:\n",
      "\u001b[31mAttributeError\u001b[39m: module 'numpy' has no attribute 'matrix'"
     ]
    }
   ],
   "source": [
    "# Crear y entrenar el modelo de regresión lineal\n",
    "modelo_lineal_ols = LinearRegression()\n",
    "modelo_lineal_ols.fit(X_train, y_train)\n",
    "\n",
    "# Realizar predicciones\n",
    "y_pred_lineal_ols = modelo_lineal_ols.predict(X_test)\n",
    "\n",
    "# Calcular métricas\n",
    "mse_lineal_ols = mean_squared_error(y_test, y_pred_lineal_ols)\n",
    "r2_lineal_ols = r2_score(y_test, y_pred_lineal_ols)\n",
    "\n",
    "# Guardar resultados\n",
    "resultados_parte1.append({\n",
    "    'Modelo': 'Regresión Lineal',\n",
    "    'Método': 'OLS',\n",
    "    'Grado': 1,\n",
    "    'MSE': mse_lineal_ols,\n",
    "    'R²': r2_lineal_ols\n",
    "})\n",
    "\n",
    "# Visualización\n",
    "plt.figure(figsize=(12, 8))\n",
    "plt.scatter(X_test, y_test, color='blue', alpha=0.6, label='Datos de prueba', s=50)\n",
    "\n",
    "# Ordenar datos para la curva de predicción\n",
    "X_test_sorted = np.sort(X_test.values.flatten())\n",
    "y_pred_sorted = modelo_lineal_ols.predict(X_test_sorted.reshape(-1, 1))\n",
    "\n",
    "plt.plot(X_test_sorted, y_pred_sorted, color='red', linewidth=2, label='Predicción (OLS)')\n",
    "plt.xlabel('x', fontsize=12)\n",
    "plt.ylabel('y', fontsize=12)\n",
    "plt.title('Regresión Lineal con OLS', fontsize=14, fontweight='bold')\n",
    "plt.legend(fontsize=10)\n",
    "plt.grid(True, alpha=0.3)\n",
    "plt.tight_layout()\n",
    "plt.show()\n",
    "\n",
    "print(f\"MSE: {mse_lineal_ols:.4f}\")\n",
    "print(f\"R²: {r2_lineal_ols:.4f}\")"
   ]
  },
  {
   "cell_type": "markdown",
   "id": "c3673278",
   "metadata": {},
   "source": [
    "### 1.6 Modelo 2: Regresión Polinomial Grado 2 con OLS"
   ]
  },
  {
   "cell_type": "code",
   "execution_count": null,
   "id": "3b0bb1aa",
   "metadata": {},
   "outputs": [
    {
     "data": {
      "image/png": "[encoded data removed]",
      "text/plain": [
       "<Figure size 500x300 with 1 Axes>"
      ]
     },
     "metadata": {},
     "output_type": "display_data"
    },
    {
     "name": "stdout",
     "output_type": "stream",
     "text": [
      "MSE: 352.4374\n",
      "R²: 0.6665\n"
     ]
    }
   ],
   "source": [
    "# Crear características polinomiales de grado 2\n",
    "poly2 = PolynomialFeatures(degree=2)\n",
    "X_train_poly2 = poly2.fit_transform(X_train)\n",
    "X_test_poly2 = poly2.transform(X_test)\n",
    "\n",
    "# Crear y entrenar el modelo\n",
    "modelo_poly2_ols = LinearRegression()\n",
    "modelo_poly2_ols.fit(X_train_poly2, y_train)\n",
    "\n",
    "# Realizar predicciones\n",
    "y_pred_poly2_ols = modelo_poly2_ols.predict(X_test_poly2)\n",
    "\n",
    "# Calcular métricas\n",
    "mse_poly2_ols = mean_squared_error(y_test, y_pred_poly2_ols)\n",
    "r2_poly2_ols = r2_score(y_test, y_pred_poly2_ols)\n",
    "\n",
    "# Guardar resultados\n",
    "resultados_parte1.append({\n",
    "    'Modelo': 'Regresión Polinomial',\n",
    "    'Método': 'OLS',\n",
    "    'Grado': 2,\n",
    "    'MSE': mse_poly2_ols,\n",
    "    'R²': r2_poly2_ols\n",
    "})\n",
    "\n",
    "# Visualización (ordenar datos para curva suave)\n",
    "plt.figure(figsize=(12, 8))\n",
    "plt.scatter(X_test, y_test, color='blue', alpha=0.6, label='Datos de prueba', s=50)\n",
    "\n",
    "# Ordenar datos para la curva de predicción\n",
    "sorted_indices = np.argsort(X_test.values.flatten())\n",
    "X_test_sorted = X_test.values.flatten()[sorted_indices]\n",
    "y_pred_sorted = y_pred_poly2_ols[sorted_indices]\n",
    "\n",
    "plt.plot(X_test_sorted, y_pred_sorted, color='red', linewidth=2, label='Predicción (OLS, grado 2)')\n",
    "plt.xlabel('x', fontsize=12)\n",
    "plt.ylabel('y', fontsize=12)\n",
    "plt.title('Regresión Polinomial Grado 2 con OLS', fontsize=14, fontweight='bold')\n",
    "plt.legend(fontsize=10)\n",
    "plt.grid(True, alpha=0.3)\n",
    "plt.tight_layout()\n",
    "plt.show()\n",
    "\n",
    "print(f\"MSE: {mse_poly2_ols:.4f}\")\n",
    "print(f\"R²: {r2_poly2_ols:.4f}\")"
   ]
  },
  {
   "cell_type": "markdown",
   "id": "485ba26c",
   "metadata": {},
   "source": [
    "### 1.7 Modelo 3: Regresión Polinomial Grado 3 con OLS"
   ]
  },
  {
   "cell_type": "code",
   "execution_count": null,
   "id": "394f3b6b",
   "metadata": {},
   "outputs": [
    {
     "ename": "AttributeError",
     "evalue": "module 'numpy' has no attribute 'matrix'",
     "output_type": "error",
     "traceback": [
      "\u001b[31m---------------------------------------------------------------------------\u001b[39m",
      "\u001b[31mAttributeError\u001b[39m                            Traceback (most recent call last)",
      "\u001b[36mCell\u001b[39m\u001b[36m \u001b[39m\u001b[32mIn[17]\u001b[39m\u001b[32m, line 8\u001b[39m\n\u001b[32m      6\u001b[39m \u001b[38;5;66;03m# Crear y entrenar el modelo\u001b[39;00m\n\u001b[32m      7\u001b[39m modelo_poly3_ols = LinearRegression()\n\u001b[32m----> \u001b[39m\u001b[32m8\u001b[39m \u001b[43mmodelo_poly3_ols\u001b[49m\u001b[43m.\u001b[49m\u001b[43mfit\u001b[49m\u001b[43m(\u001b[49m\u001b[43mX_train_poly3\u001b[49m\u001b[43m,\u001b[49m\u001b[43m \u001b[49m\u001b[43my_train\u001b[49m\u001b[43m)\u001b[49m\n\u001b[32m     10\u001b[39m \u001b[38;5;66;03m# Realizar predicciones\u001b[39;00m\n\u001b[32m     11\u001b[39m y_pred_poly3_ols = modelo_poly3_ols.predict(X_test_poly3)\n",
      "\u001b[36mFile \u001b[39m\u001b[32mc:\\Users\\packo\\AppData\\Local\\Programs\\Python\\Python312\\Lib\\site-packages\\sklearn\\base.py:1365\u001b[39m, in \u001b[36m_fit_context.<locals>.decorator.<locals>.wrapper\u001b[39m\u001b[34m(estimator, *args, **kwargs)\u001b[39m\n\u001b[32m   1358\u001b[39m     estimator._validate_params()\n\u001b[32m   1360\u001b[39m \u001b[38;5;28;01mwith\u001b[39;00m config_context(\n\u001b[32m   1361\u001b[39m     skip_parameter_validation=(\n\u001b[32m   1362\u001b[39m         prefer_skip_nested_validation \u001b[38;5;129;01mor\u001b[39;00m global_skip_validation\n\u001b[32m   1363\u001b[39m     )\n\u001b[32m   1364\u001b[39m ):\n\u001b[32m-> \u001b[39m\u001b[32m1365\u001b[39m     \u001b[38;5;28;01mreturn\u001b[39;00m \u001b[43mfit_method\u001b[49m\u001b[43m(\u001b[49m\u001b[43mestimator\u001b[49m\u001b[43m,\u001b[49m\u001b[43m \u001b[49m\u001b[43m*\u001b[49m\u001b[43margs\u001b[49m\u001b[43m,\u001b[49m\u001b[43m \u001b[49m\u001b[43m*\u001b[49m\u001b[43m*\u001b[49m\u001b[43mkwargs\u001b[49m\u001b[43m)\u001b[49m\n",
      "\u001b[36mFile \u001b[39m\u001b[32mc:\\Users\\packo\\AppData\\Local\\Programs\\Python\\Python312\\Lib\\site-packages\\sklearn\\linear_model\\_base.py:705\u001b[39m, in \u001b[36mLinearRegression.fit\u001b[39m\u001b[34m(self, X, y, sample_weight)\u001b[39m\n\u001b[32m    702\u001b[39m     \u001b[38;5;28mself\u001b[39m.coef_ = \u001b[38;5;28mself\u001b[39m.coef_.T\n\u001b[32m    704\u001b[39m \u001b[38;5;28;01mif\u001b[39;00m y.ndim == \u001b[32m1\u001b[39m:\n\u001b[32m--> \u001b[39m\u001b[32m705\u001b[39m     \u001b[38;5;28mself\u001b[39m.coef_ = \u001b[43mnp\u001b[49m\u001b[43m.\u001b[49m\u001b[43mravel\u001b[49m\u001b[43m(\u001b[49m\u001b[38;5;28;43mself\u001b[39;49m\u001b[43m.\u001b[49m\u001b[43mcoef_\u001b[49m\u001b[43m)\u001b[49m\n\u001b[32m    706\u001b[39m \u001b[38;5;28mself\u001b[39m._set_intercept(X_offset, y_offset, X_scale)\n\u001b[32m    707\u001b[39m \u001b[38;5;28;01mreturn\u001b[39;00m \u001b[38;5;28mself\u001b[39m\n",
      "\u001b[36mFile \u001b[39m\u001b[32mc:\\Users\\packo\\AppData\\Local\\Programs\\Python\\Python312\\Lib\\site-packages\\numpy\\core\\fromnumeric.py:1871\u001b[39m, in \u001b[36mravel\u001b[39m\u001b[34m(a, order)\u001b[39m\n\u001b[32m   1768\u001b[39m \u001b[38;5;129m@array_function_dispatch\u001b[39m(_ravel_dispatcher)\n\u001b[32m   1769\u001b[39m \u001b[38;5;28;01mdef\u001b[39;00m\u001b[38;5;250m \u001b[39m\u001b[34mravel\u001b[39m(a, order=\u001b[33m'\u001b[39m\u001b[33mC\u001b[39m\u001b[33m'\u001b[39m):\n\u001b[32m   1770\u001b[39m \u001b[38;5;250m    \u001b[39m\u001b[33;03m\"\"\"Return a contiguous flattened array.\u001b[39;00m\n\u001b[32m   1771\u001b[39m \n\u001b[32m   1772\u001b[39m \u001b[33;03m    A 1-D array, containing the elements of the input, is returned.  A copy is\u001b[39;00m\n\u001b[32m   (...)\u001b[39m\u001b[32m   1869\u001b[39m \n\u001b[32m   1870\u001b[39m \u001b[33;03m    \"\"\"\u001b[39;00m\n\u001b[32m-> \u001b[39m\u001b[32m1871\u001b[39m     \u001b[38;5;28;01mif\u001b[39;00m \u001b[38;5;28misinstance\u001b[39m(a, \u001b[43mnp\u001b[49m\u001b[43m.\u001b[49m\u001b[43mmatrix\u001b[49m):\n\u001b[32m   1872\u001b[39m         \u001b[38;5;28;01mreturn\u001b[39;00m asarray(a).ravel(order=order)\n\u001b[32m   1873\u001b[39m     \u001b[38;5;28;01melse\u001b[39;00m:\n",
      "\u001b[31mAttributeError\u001b[39m: module 'numpy' has no attribute 'matrix'"
     ]
    }
   ],
   "source": [
    "# Crear características polinomiales de grado 3\n",
    "poly3 = PolynomialFeatures(degree=3)\n",
    "X_train_poly3 = poly3.fit_transform(X_train)\n",
    "X_test_poly3 = poly3.transform(X_test)\n",
    "\n",
    "# Crear y entrenar el modelo\n",
    "modelo_poly3_ols = LinearRegression()\n",
    "modelo_poly3_ols.fit(X_train_poly3, y_train)\n",
    "\n",
    "# Realizar predicciones\n",
    "y_pred_poly3_ols = modelo_poly3_ols.predict(X_test_poly3)\n",
    "\n",
    "# Calcular métricas\n",
    "mse_poly3_ols = mean_squared_error(y_test, y_pred_poly3_ols)\n",
    "r2_poly3_ols = r2_score(y_test, y_pred_poly3_ols)\n",
    "\n",
    "# Guardar resultados\n",
    "resultados_parte1.append({\n",
    "    'Modelo': 'Regresión Polinomial',\n",
    "    'Método': 'OLS',\n",
    "    'Grado': 3,\n",
    "    'MSE': mse_poly3_ols,\n",
    "    'R²': r2_poly3_ols\n",
    "})\n",
    "\n",
    "# Visualización (ordenar datos para curva suave)\n",
    "plt.figure(figsize=(12, 8))\n",
    "plt.scatter(X_test, y_test, color='blue', alpha=0.6, label='Datos de prueba', s=50)\n",
    "\n",
    "# Ordenar datos para la curva de predicción\n",
    "sorted_indices = np.argsort(X_test.values.flatten())\n",
    "X_test_sorted = X_test.values.flatten()[sorted_indices]\n",
    "y_pred_sorted = y_pred_poly3_ols[sorted_indices]\n",
    "\n",
    "plt.plot(X_test_sorted, y_pred_sorted, color='red', linewidth=2, label='Predicción (OLS, grado 3)')\n",
    "plt.xlabel('x', fontsize=12)\n",
    "plt.ylabel('y', fontsize=12)\n",
    "plt.title('Regresión Polinomial Grado 3 con OLS', fontsize=14, fontweight='bold')\n",
    "plt.legend(fontsize=10)\n",
    "plt.grid(True, alpha=0.3)\n",
    "plt.tight_layout()\n",
    "plt.show()\n",
    "\n",
    "print(f\"MSE: {mse_poly3_ols:.4f}\")\n",
    "print(f\"R²: {r2_poly3_ols:.4f}\")"
   ]
  },
  {
   "cell_type": "markdown",
   "id": "4708ae0c",
   "metadata": {},
   "source": [
    "### 1.8 Modelo 4: Regresión Lineal con SGD"
   ]
  },
  {
   "cell_type": "code",
   "execution_count": null,
   "id": "af175215",
   "metadata": {},
   "outputs": [
    {
     "data": {
      "image/png": "[encoded data removed]",
      "text/plain": [
       "<Figure size 500x300 with 1 Axes>"
      ]
     },
     "metadata": {},
     "output_type": "display_data"
    },
    {
     "name": "stdout",
     "output_type": "stream",
     "text": [
      "MSE: 263.8127\n",
      "R²: 0.7504\n"
     ]
    }
   ],
   "source": [
    "# Crear y entrenar el modelo de regresión lineal con SGD\n",
    "modelo_lineal_sgd = SGDRegressor(max_iter=max_iter, alpha=alpha, random_state=0, \n",
    "                                 tol=1e-3, learning_rate='constant', eta0=0.01)\n",
    "modelo_lineal_sgd.fit(X_train, y_train)\n",
    "\n",
    "# Realizar predicciones\n",
    "y_pred_lineal_sgd = modelo_lineal_sgd.predict(X_test)\n",
    "\n",
    "# Calcular métricas\n",
    "mse_lineal_sgd = mean_squared_error(y_test, y_pred_lineal_sgd)\n",
    "r2_lineal_sgd = r2_score(y_test, y_pred_lineal_sgd)\n",
    "\n",
    "# Guardar resultados\n",
    "resultados_parte1.append({\n",
    "    'Modelo': 'Regresión Lineal',\n",
    "    'Método': 'SGD',\n",
    "    'Grado': 1,\n",
    "    'MSE': mse_lineal_sgd,\n",
    "    'R²': r2_lineal_sgd\n",
    "})\n",
    "\n",
    "# Visualización\n",
    "plt.figure(figsize=(5, 3))\n",
    "plt.scatter(X_test, y_test, color='blue', alpha=0.6, label='Datos de prueba', s=50)\n",
    "\n",
    "# Ordenar datos para la curva de predicción\n",
    "X_test_sorted = np.sort(X_test.values.flatten())\n",
    "y_pred_sorted = modelo_lineal_sgd.predict(X_test_sorted.reshape(-1, 1))\n",
    "\n",
    "plt.plot(X_test_sorted, y_pred_sorted, color='green', linewidth=2, label='Predicción (SGD)')\n",
    "plt.xlabel('x', fontsize=12)\n",
    "plt.ylabel('y', fontsize=12)\n",
    "plt.title('Regresión Lineal con SGD', fontsize=14, fontweight='bold')\n",
    "plt.legend(fontsize=10)\n",
    "plt.grid(True, alpha=0.3)\n",
    "plt.tight_layout()\n",
    "plt.show()\n",
    "\n",
    "print(f\"MSE: {mse_lineal_sgd:.4f}\")\n",
    "print(f\"R²: {r2_lineal_sgd:.4f}\")"
   ]
  },
  {
   "cell_type": "markdown",
   "id": "1cc85bcc",
   "metadata": {},
   "source": [
    "### 1.9 Modelo 5: Regresión Polinomial Grado 2 con SGD"
   ]
  },
  {
   "cell_type": "code",
   "execution_count": null,
   "id": "ef476771",
   "metadata": {},
   "outputs": [
    {
     "data": {
      "image/png": "[encoded data removed]",
      "text/plain": [
       "<Figure size 500x300 with 1 Axes>"
      ]
     },
     "metadata": {},
     "output_type": "display_data"
    },
    {
     "name": "stdout",
     "output_type": "stream",
     "text": [
      "MSE: 1053008860821055642533888.0000\n",
      "R²: -996465385104322461696.0000\n"
     ]
    }
   ],
   "source": [
    "# Crear características polinomiales de grado 2\n",
    "# (Reutilizamos poly2 ya definido anteriormente)\n",
    "X_train_poly2_sgd = poly2.transform(X_train)\n",
    "X_test_poly2_sgd = poly2.transform(X_test)\n",
    "\n",
    "# Crear y entrenar el modelo con SGD\n",
    "modelo_poly2_sgd = SGDRegressor(max_iter=max_iter, alpha=alpha, random_state=0,\n",
    "                                tol=1e-3, learning_rate='constant', eta0=0.01)\n",
    "modelo_poly2_sgd.fit(X_train_poly2_sgd, y_train)\n",
    "\n",
    "# Realizar predicciones\n",
    "y_pred_poly2_sgd = modelo_poly2_sgd.predict(X_test_poly2_sgd)\n",
    "\n",
    "# Calcular métricas\n",
    "mse_poly2_sgd = mean_squared_error(y_test, y_pred_poly2_sgd)\n",
    "r2_poly2_sgd = r2_score(y_test, y_pred_poly2_sgd)\n",
    "\n",
    "# Guardar resultados\n",
    "resultados_parte1.append({\n",
    "    'Modelo': 'Regresión Polinomial',\n",
    "    'Método': 'SGD',\n",
    "    'Grado': 2,\n",
    "    'MSE': mse_poly2_sgd,\n",
    "    'R²': r2_poly2_sgd\n",
    "})\n",
    "\n",
    "# Visualización (ordenar datos para curva suave)\n",
    "plt.figure(figsize=(5, 3))\n",
    "plt.scatter(X_test, y_test, color='blue', alpha=0.6, label='Datos de prueba', s=50)\n",
    "\n",
    "# Ordenar datos para la curva de predicción\n",
    "sorted_indices = np.argsort(X_test.values.flatten())\n",
    "X_test_sorted = X_test.values.flatten()[sorted_indices]\n",
    "y_pred_sorted = y_pred_poly2_sgd[sorted_indices]\n",
    "\n",
    "plt.plot(X_test_sorted, y_pred_sorted, color='green', linewidth=2, label='Predicción (SGD, grado 2)')\n",
    "plt.xlabel('x', fontsize=12)\n",
    "plt.ylabel('y', fontsize=12)\n",
    "plt.title('Regresión Polinomial Grado 2 con SGD', fontsize=14, fontweight='bold')\n",
    "plt.legend(fontsize=10)\n",
    "plt.grid(True, alpha=0.3)\n",
    "plt.tight_layout()\n",
    "plt.show()\n",
    "\n",
    "print(f\"MSE: {mse_poly2_sgd:.4f}\")\n",
    "print(f\"R²: {r2_poly2_sgd:.4f}\")"
   ]
  },
  {
   "cell_type": "markdown",
   "id": "a96d3f1a",
   "metadata": {},
   "source": [
    "### 1.10 Modelo 6: Regresión Polinomial Grado 3 con SGD"
   ]
  },
  {
   "cell_type": "code",
   "execution_count": null,
   "id": "a1281f66",
   "metadata": {},
   "outputs": [
    {
     "data": {
      "image/png": "[encoded data removed]",
      "text/plain": [
       "<Figure size 500x300 with 1 Axes>"
      ]
     },
     "metadata": {},
     "output_type": "display_data"
    },
    {
     "name": "stdout",
     "output_type": "stream",
     "text": [
      "MSE: 45608086214992549238798286848.0000\n",
      "R²: -43159066257673940977582080.0000\n"
     ]
    }
   ],
   "source": [
    "# Crear características polinomiales de grado 3\n",
    "# (Reutilizamos poly3 ya definido anteriormente)\n",
    "X_train_poly3_sgd = poly3.transform(X_train)\n",
    "X_test_poly3_sgd = poly3.transform(X_test)\n",
    "\n",
    "# Crear y entrenar el modelo con SGD\n",
    "modelo_poly3_sgd = SGDRegressor(max_iter=max_iter, alpha=alpha, random_state=0,\n",
    "                                tol=1e-3, learning_rate='constant', eta0=0.01)\n",
    "modelo_poly3_sgd.fit(X_train_poly3_sgd, y_train)\n",
    "\n",
    "# Realizar predicciones\n",
    "y_pred_poly3_sgd = modelo_poly3_sgd.predict(X_test_poly3_sgd)\n",
    "\n",
    "# Calcular métricas\n",
    "mse_poly3_sgd = mean_squared_error(y_test, y_pred_poly3_sgd)\n",
    "r2_poly3_sgd = r2_score(y_test, y_pred_poly3_sgd)\n",
    "\n",
    "# Guardar resultados\n",
    "resultados_parte1.append({\n",
    "    'Modelo': 'Regresión Polinomial',\n",
    "    'Método': 'SGD',\n",
    "    'Grado': 3,\n",
    "    'MSE': mse_poly3_sgd,\n",
    "    'R²': r2_poly3_sgd\n",
    "})\n",
    "\n",
    "# Visualización (ordenar datos para curva suave)\n",
    "plt.figure(figsize=(5, 3))\n",
    "plt.scatter(X_test, y_test, color='blue', alpha=0.6, label='Datos de prueba', s=50)\n",
    "\n",
    "# Ordenar datos para la curva de predicción\n",
    "sorted_indices = np.argsort(X_test.values.flatten())\n",
    "X_test_sorted = X_test.values.flatten()[sorted_indices]\n",
    "y_pred_sorted = y_pred_poly3_sgd[sorted_indices]\n",
    "\n",
    "plt.plot(X_test_sorted, y_pred_sorted, color='green', linewidth=2, label='Predicción (SGD, grado 3)')\n",
    "plt.xlabel('x', fontsize=12)\n",
    "plt.ylabel('y', fontsize=12)\n",
    "plt.title('Regresión Polinomial Grado 3 con SGD', fontsize=14, fontweight='bold')\n",
    "plt.legend(fontsize=10)\n",
    "plt.grid(True, alpha=0.3)\n",
    "plt.tight_layout()\n",
    "plt.show()\n",
    "\n",
    "print(f\"MSE: {mse_poly3_sgd:.4f}\")\n",
    "print(f\"R²: {r2_poly3_sgd:.4f}\")"
   ]
  },
  {
   "cell_type": "markdown",
   "id": "eca03f02",
   "metadata": {},
   "source": [
    "### 1.11 Resumen de Resultados - Parte 1"
   ]
  },
  {
   "cell_type": "code",
   "execution_count": null,
   "id": "4fc2f0ce",
   "metadata": {},
   "outputs": [
    {
     "name": "stdout",
     "output_type": "stream",
     "text": [
      "================================================================================\n",
      "                    RESUMEN DE RESULTADOS - PARTE 1\n",
      "                         (Dataset: datos.csv)\n",
      "================================================================================\n",
      "\n"
     ]
    },
    {
     "data": {
      "text/plain": [
       "'              Modelo Método  Grado          MSE            R²\\n    Regresión Lineal    OLS      1 2.960946e+02  7.198048e-01\\nRegresión Polinomial    OLS      2 3.524374e+02  6.664875e-01\\nRegresión Polinomial    OLS      3 8.487854e+00  9.919679e-01\\n    Regresión Lineal    SGD      1 2.638127e+02  7.503533e-01\\nRegresión Polinomial    SGD      2 1.053009e+24 -9.964654e+20\\nRegresión Polinomial    SGD      3 4.560809e+28 -4.315907e+25'"
      ]
     },
     "metadata": {},
     "output_type": "display_data"
    },
    {
     "name": "stdout",
     "output_type": "stream",
     "text": [
      "\n",
      "================================================================================\n",
      "\n",
      "🏆 MEJOR MODELO:\n",
      "   Tipo: Regresión Polinomial\n",
      "   Método: OLS\n",
      "   Grado: 3\n",
      "   MSE: 8.4879\n",
      "   R²: 0.9920\n",
      "\n"
     ]
    },
    {
     "data": {
      "image/png": "[encoded data removed]",
      "text/plain": [
       "<Figure size 750x250 with 2 Axes>"
      ]
     },
     "metadata": {},
     "output_type": "display_data"
    }
   ],
   "source": [
    "# Crear DataFrame con los resultados\n",
    "df_resultados_parte1 = pd.DataFrame(resultados_parte1)\n",
    "\n",
    "# Mostrar tabla de resultados\n",
    "print(\"=\"*80)\n",
    "print(\" \" * 20 + \"RESUMEN DE RESULTADOS - PARTE 1\")\n",
    "print(\" \" * 25 + \"(Dataset: datos.csv)\")\n",
    "print(\"=\"*80)\n",
    "print()\n",
    "display(df_resultados_parte1.to_string(index=False))\n",
    "print()\n",
    "print(\"=\"*80)\n",
    "\n",
    "# Encontrar el mejor modelo\n",
    "mejor_idx = df_resultados_parte1['R²'].idxmax()\n",
    "mejor_modelo = df_resultados_parte1.loc[mejor_idx]\n",
    "\n",
    "print(f\"\\nMEJOR MODELO:\")\n",
    "print(f\"   Tipo: {mejor_modelo['Modelo']}\")\n",
    "print(f\"   Método: {mejor_modelo['Método']}\")\n",
    "print(f\"   Grado: {mejor_modelo['Grado']}\")\n",
    "print(f\"   MSE: {mejor_modelo['MSE']:.4f}\")\n",
    "print(f\"   R²: {mejor_modelo['R²']:.4f}\")\n",
    "print()\n",
    "\n",
    "# Gráfica comparativa\n",
    "fig, (ax1, ax2) = plt.subplots(1, 2, figsize=(7.5, 2.5))\n",
    "\n",
    "# Gráfica de MSE\n",
    "x_pos = np.arange(len(df_resultados_parte1))\n",
    "colores_mse = ['red' if i == mejor_idx else 'lightcoral' for i in range(len(df_resultados_parte1))]\n",
    "ax1.bar(x_pos, df_resultados_parte1['MSE'], color=colores_mse, alpha=0.7)\n",
    "ax1.set_xlabel('Modelo', fontsize=11)\n",
    "ax1.set_ylabel('MSE (Error Cuadrático Medio)', fontsize=11)\n",
    "ax1.set_title('Comparación de MSE por Modelo', fontsize=13, fontweight='bold')\n",
    "ax1.set_xticks(x_pos)\n",
    "ax1.set_xticklabels([f\"{row['Modelo'][:3]}\\n{row['Método']}\\nG{row['Grado']}\" \n",
    "                      for _, row in df_resultados_parte1.iterrows()], fontsize=9)\n",
    "ax1.grid(True, alpha=0.3, axis='y')\n",
    "\n",
    "# Gráfica de R²\n",
    "colores_r2 = ['green' if i == mejor_idx else 'lightgreen' for i in range(len(df_resultados_parte1))]\n",
    "ax2.bar(x_pos, df_resultados_parte1['R²'], color=colores_r2, alpha=0.7)\n",
    "ax2.set_xlabel('Modelo', fontsize=11)\n",
    "ax2.set_ylabel('R² (Coeficiente de Determinación)', fontsize=11)\n",
    "ax2.set_title('Comparación de R² por Modelo', fontsize=13, fontweight='bold')\n",
    "ax2.set_xticks(x_pos)\n",
    "ax2.set_xticklabels([f\"{row['Modelo'][:3]}\\n{row['Método']}\\nG{row['Grado']}\" \n",
    "                      for _, row in df_resultados_parte1.iterrows()], fontsize=9)\n",
    "ax2.grid(True, alpha=0.3, axis='y')\n",
    "ax2.axhline(y=0, color='black', linestyle='--', linewidth=0.8)\n",
    "\n",
    "plt.tight_layout()\n",
    "plt.show()"
   ]
  },
  {
   "cell_type": "markdown",
   "id": "2a2a85a9",
   "metadata": {},
   "source": [
    "---\n",
    "## Parte 2: Análisis del Dataset cal_housing.csv\n",
    "En esta sección se implementarán 7 modelos de regresión con OLS:\n",
    "- Regresión lineal sin escalamiento\n",
    "- Regresión polinomial grado 2: sin escalamiento, con escalamiento estándar y con escalamiento robusto\n",
    "- Regresión polinomial grado 3: sin escalamiento, con escalamiento estándar y con escalamiento robusto\n",
    "\n",
    "Se dividirá el dataset en 80% entrenamiento y 20% prueba."
   ]
  },
  {
   "cell_type": "markdown",
   "id": "cb2186c0",
   "metadata": {},
   "source": [
    "### 2.1 Carga y división del dataset"
   ]
  },
  {
   "cell_type": "code",
   "execution_count": null,
   "id": "5a75588e",
   "metadata": {},
   "outputs": [
    {
     "name": "stdout",
     "output_type": "stream",
     "text": [
      "✓ Dataset 'cal_housing.csv' cargado exitosamente\n",
      "  Dimensiones: (20640, 9)\n",
      "\n",
      "Primeras filas del dataset:\n"
     ]
    },
    {
     "data": {
      "text/html": [
       "<div>\n",
       "<style scoped>\n",
       "    .dataframe tbody tr th:only-of-type {\n",
       "        vertical-align: middle;\n",
       "    }\n",
       "\n",
       "    .dataframe tbody tr th {\n",
       "        vertical-align: top;\n",
       "    }\n",
       "\n",
       "    .dataframe thead th {\n",
       "        text-align: right;\n",
       "    }\n",
       "</style>\n",
       "<table border=\"1\" class=\"dataframe\">\n",
       "  <thead>\n",
       "    <tr style=\"text-align: right;\">\n",
       "      <th></th>\n",
       "      <th>longitude</th>\n",
       "      <th>latitude</th>\n",
       "      <th>housingMedianAge</th>\n",
       "      <th>totalRooms</th>\n",
       "      <th>totalBedrooms</th>\n",
       "      <th>population</th>\n",
       "      <th>households</th>\n",
       "      <th>medianIncome</th>\n",
       "      <th>medianHouseValue</th>\n",
       "    </tr>\n",
       "  </thead>\n",
       "  <tbody>\n",
       "    <tr>\n",
       "      <th>0</th>\n",
       "      <td>-122.23</td>\n",
       "      <td>37.88</td>\n",
       "      <td>41.0</td>\n",
       "      <td>880.0</td>\n",
       "      <td>129.0</td>\n",
       "      <td>322.0</td>\n",
       "      <td>126.0</td>\n",
       "      <td>8.3252</td>\n",
       "      <td>452600.0</td>\n",
       "    </tr>\n",
       "    <tr>\n",
       "      <th>1</th>\n",
       "      <td>-122.22</td>\n",
       "      <td>37.86</td>\n",
       "      <td>21.0</td>\n",
       "      <td>7099.0</td>\n",
       "      <td>1106.0</td>\n",
       "      <td>2401.0</td>\n",
       "      <td>1138.0</td>\n",
       "      <td>8.3014</td>\n",
       "      <td>358500.0</td>\n",
       "    </tr>\n",
       "    <tr>\n",
       "      <th>2</th>\n",
       "      <td>-122.24</td>\n",
       "      <td>37.85</td>\n",
       "      <td>52.0</td>\n",
       "      <td>1467.0</td>\n",
       "      <td>190.0</td>\n",
       "      <td>496.0</td>\n",
       "      <td>177.0</td>\n",
       "      <td>7.2574</td>\n",
       "      <td>352100.0</td>\n",
       "    </tr>\n",
       "    <tr>\n",
       "      <th>3</th>\n",
       "      <td>-122.25</td>\n",
       "      <td>37.85</td>\n",
       "      <td>52.0</td>\n",
       "      <td>1274.0</td>\n",
       "      <td>235.0</td>\n",
       "      <td>558.0</td>\n",
       "      <td>219.0</td>\n",
       "      <td>5.6431</td>\n",
       "      <td>341300.0</td>\n",
       "    </tr>\n",
       "    <tr>\n",
       "      <th>4</th>\n",
       "      <td>-122.25</td>\n",
       "      <td>37.85</td>\n",
       "      <td>52.0</td>\n",
       "      <td>1627.0</td>\n",
       "      <td>280.0</td>\n",
       "      <td>565.0</td>\n",
       "      <td>259.0</td>\n",
       "      <td>3.8462</td>\n",
       "      <td>342200.0</td>\n",
       "    </tr>\n",
       "  </tbody>\n",
       "</table>\n",
       "</div>"
      ],
      "text/plain": [
       "   longitude  latitude  housingMedianAge  totalRooms  totalBedrooms  \\\n",
       "0    -122.23     37.88              41.0       880.0          129.0   \n",
       "1    -122.22     37.86              21.0      7099.0         1106.0   \n",
       "2    -122.24     37.85              52.0      1467.0          190.0   \n",
       "3    -122.25     37.85              52.0      1274.0          235.0   \n",
       "4    -122.25     37.85              52.0      1627.0          280.0   \n",
       "\n",
       "   population  households  medianIncome  medianHouseValue  \n",
       "0       322.0       126.0        8.3252          452600.0  \n",
       "1      2401.0      1138.0        8.3014          358500.0  \n",
       "2       496.0       177.0        7.2574          352100.0  \n",
       "3       558.0       219.0        5.6431          341300.0  \n",
       "4       565.0       259.0        3.8462          342200.0  "
      ]
     },
     "metadata": {},
     "output_type": "display_data"
    },
    {
     "name": "stdout",
     "output_type": "stream",
     "text": [
      "\n",
      "Información del dataset:\n",
      "<class 'pandas.core.frame.DataFrame'>\n",
      "RangeIndex: 20640 entries, 0 to 20639\n",
      "Data columns (total 9 columns):\n",
      " #   Column            Non-Null Count  Dtype  \n",
      "---  ------            --------------  -----  \n",
      " 0   longitude         20640 non-null  float64\n",
      " 1   latitude          20640 non-null  float64\n",
      " 2   housingMedianAge  20640 non-null  float64\n",
      " 3   totalRooms        20640 non-null  float64\n",
      " 4   totalBedrooms     20640 non-null  float64\n",
      " 5   population        20640 non-null  float64\n",
      " 6   households        20640 non-null  float64\n",
      " 7   medianIncome      20640 non-null  float64\n",
      " 8   medianHouseValue  20640 non-null  float64\n",
      "dtypes: float64(9)\n",
      "memory usage: 1.4 MB\n"
     ]
    },
    {
     "data": {
      "text/plain": [
       "None"
      ]
     },
     "metadata": {},
     "output_type": "display_data"
    },
    {
     "name": "stdout",
     "output_type": "stream",
     "text": [
      "\n",
      "✓ Características: 8 variables\n",
      "  ['longitude', 'latitude', 'housingMedianAge', 'totalRooms', 'totalBedrooms', 'population', 'households', 'medianIncome']\n",
      "✓ Variable objetivo: medianHouseValue\n",
      "\n",
      "✓ División completada:\n",
      "  Conjunto de entrenamiento: 16512 muestras\n",
      "  Conjunto de prueba: 4128 muestras\n"
     ]
    }
   ],
   "source": [
    "# Cargar el dataset de California Housing\n",
    "cal_housing = pd.read_csv('cal_housing.csv')\n",
    "\n",
    "print(\"✓ Dataset 'cal_housing.csv' cargado exitosamente\")\n",
    "print(f\"  Dimensiones: {cal_housing.shape}\")\n",
    "print(f\"\\nPrimeras filas del dataset:\")\n",
    "display(cal_housing.head())\n",
    "print(f\"\\nInformación del dataset:\")\n",
    "display(cal_housing.info())\n",
    "\n",
    "# Separar características (todas las columnas excepto la última) y target (última columna)\n",
    "X_cal = cal_housing.iloc[:, :-1]  # Todas las columnas excepto la última\n",
    "y_cal = cal_housing.iloc[:, -1]   # Última columna (medianHouseValue)\n",
    "\n",
    "print(f\"\\n✓ Características: {X_cal.shape[1]} variables\")\n",
    "print(f\"  {list(X_cal.columns)}\")\n",
    "print(f\"✓ Variable objetivo: {y_cal.name}\")\n",
    "\n",
    "# División: 80% entrenamiento, 20% prueba\n",
    "X_train_cal, X_test_cal, y_train_cal, y_test_cal = train_test_split(\n",
    "    X_cal, y_cal, train_size=0.8, test_size=0.2, shuffle=True, random_state=0\n",
    ")\n",
    "\n",
    "print(f\"\\n✓ División completada:\")\n",
    "print(f\"  Conjunto de entrenamiento: {X_train_cal.shape[0]} muestras\")\n",
    "print(f\"  Conjunto de prueba: {X_test_cal.shape[0]} muestras\")"
   ]
  },
  {
   "cell_type": "markdown",
   "id": "d06ad51d",
   "metadata": {},
   "source": [
    "### 2.2 Estructura para almacenar resultados"
   ]
  },
  {
   "cell_type": "code",
   "execution_count": null,
   "id": "41f7afd0",
   "metadata": {},
   "outputs": [],
   "source": [
    "# Lista para almacenar los resultados de todos los modelos de la Parte 2\n",
    "resultados_parte2 = []"
   ]
  },
  {
   "cell_type": "markdown",
   "id": "edb3b8b7",
   "metadata": {},
   "source": [
    "### 2.3 Modelo 1: Regresión Lineal sin Escalamiento"
   ]
  },
  {
   "cell_type": "code",
   "execution_count": null,
   "id": "a86fd52a",
   "metadata": {},
   "outputs": [
    {
     "name": "stdout",
     "output_type": "stream",
     "text": [
      "✓ Regresión Lineal sin Escalamiento\n",
      "  MSE: 4853781771.95\n",
      "  R²: 0.6278\n"
     ]
    }
   ],
   "source": [
    "# Modelo de regresión lineal sin escalamiento\n",
    "modelo_cal_lin = LinearRegression()\n",
    "modelo_cal_lin.fit(X_train_cal, y_train_cal)\n",
    "\n",
    "# Predicciones\n",
    "y_pred_cal_lin = modelo_cal_lin.predict(X_test_cal)\n",
    "\n",
    "# Métricas\n",
    "mse_cal_lin = mean_squared_error(y_test_cal, y_pred_cal_lin)\n",
    "r2_cal_lin = r2_score(y_test_cal, y_pred_cal_lin)\n",
    "\n",
    "# Guardar resultados\n",
    "resultados_parte2.append({\n",
    "    'Modelo': 'Lineal',\n",
    "    'Grado': 1,\n",
    "    'Escalamiento': 'Sin escalamiento',\n",
    "    'MSE': mse_cal_lin,\n",
    "    'R²': r2_cal_lin\n",
    "})\n",
    "\n",
    "print(f\"✓ Regresión Lineal sin Escalamiento\")\n",
    "print(f\"  MSE: {mse_cal_lin:.2f}\")\n",
    "print(f\"  R²: {r2_cal_lin:.4f}\")"
   ]
  },
  {
   "cell_type": "markdown",
   "id": "bf38e421",
   "metadata": {},
   "source": [
    "### 2.4 Modelo 2: Regresión Polinomial Grado 2 sin Escalamiento"
   ]
  },
  {
   "cell_type": "code",
   "execution_count": null,
   "id": "fcb389a0",
   "metadata": {},
   "outputs": [
    {
     "name": "stdout",
     "output_type": "stream",
     "text": [
      "✓ Regresión Polinomial Grado 2 sin Escalamiento\n",
      "  MSE: 4076152901.14\n",
      "  R²: 0.6874\n"
     ]
    }
   ],
   "source": [
    "# Características polinomiales de grado 2\n",
    "poly_cal_2 = PolynomialFeatures(degree=2)\n",
    "X_train_cal_poly2 = poly_cal_2.fit_transform(X_train_cal)\n",
    "X_test_cal_poly2 = poly_cal_2.transform(X_test_cal)\n",
    "\n",
    "# Modelo de regresión\n",
    "modelo_cal_poly2 = LinearRegression()\n",
    "modelo_cal_poly2.fit(X_train_cal_poly2, y_train_cal)\n",
    "\n",
    "# Predicciones\n",
    "y_pred_cal_poly2 = modelo_cal_poly2.predict(X_test_cal_poly2)\n",
    "\n",
    "# Métricas\n",
    "mse_cal_poly2 = mean_squared_error(y_test_cal, y_pred_cal_poly2)\n",
    "r2_cal_poly2 = r2_score(y_test_cal, y_pred_cal_poly2)\n",
    "\n",
    "# Guardar resultados\n",
    "resultados_parte2.append({\n",
    "    'Modelo': 'Polinomial',\n",
    "    'Grado': 2,\n",
    "    'Escalamiento': 'Sin escalamiento',\n",
    "    'MSE': mse_cal_poly2,\n",
    "    'R²': r2_cal_poly2\n",
    "})\n",
    "\n",
    "print(f\"✓ Regresión Polinomial Grado 2 sin Escalamiento\")\n",
    "print(f\"  MSE: {mse_cal_poly2:.2f}\")\n",
    "print(f\"  R²: {r2_cal_poly2:.4f}\")"
   ]
  },
  {
   "cell_type": "markdown",
   "id": "ff587f9a",
   "metadata": {},
   "source": [
    "### 2.5 Modelo 3: Regresión Polinomial Grado 2 con Escalamiento Estándar"
   ]
  },
  {
   "cell_type": "code",
   "execution_count": null,
   "id": "b52774b7",
   "metadata": {},
   "outputs": [
    {
     "name": "stdout",
     "output_type": "stream",
     "text": [
      "✓ Regresión Polinomial Grado 2 con Escalamiento Estándar\n",
      "  MSE: 4076152877.92\n",
      "  R²: 0.6874\n"
     ]
    }
   ],
   "source": [
    "# Escalamiento estándar (StandardScaler: restar media, dividir por desviación estándar)\n",
    "scaler_std = StandardScaler()\n",
    "X_train_cal_std = scaler_std.fit_transform(X_train_cal)\n",
    "X_test_cal_std = scaler_std.transform(X_test_cal)\n",
    "\n",
    "# Características polinomiales de grado 2\n",
    "poly_cal_2_std = PolynomialFeatures(degree=2)\n",
    "X_train_cal_poly2_std = poly_cal_2_std.fit_transform(X_train_cal_std)\n",
    "X_test_cal_poly2_std = poly_cal_2_std.transform(X_test_cal_std)\n",
    "\n",
    "# Modelo de regresión\n",
    "modelo_cal_poly2_std = LinearRegression()\n",
    "modelo_cal_poly2_std.fit(X_train_cal_poly2_std, y_train_cal)\n",
    "\n",
    "# Predicciones\n",
    "y_pred_cal_poly2_std = modelo_cal_poly2_std.predict(X_test_cal_poly2_std)\n",
    "\n",
    "# Métricas\n",
    "mse_cal_poly2_std = mean_squared_error(y_test_cal, y_pred_cal_poly2_std)\n",
    "r2_cal_poly2_std = r2_score(y_test_cal, y_pred_cal_poly2_std)\n",
    "\n",
    "# Guardar resultados\n",
    "resultados_parte2.append({\n",
    "    'Modelo': 'Polinomial',\n",
    "    'Grado': 2,\n",
    "    'Escalamiento': 'Estándar',\n",
    "    'MSE': mse_cal_poly2_std,\n",
    "    'R²': r2_cal_poly2_std\n",
    "})\n",
    "\n",
    "print(f\"✓ Regresión Polinomial Grado 2 con Escalamiento Estándar\")\n",
    "print(f\"  MSE: {mse_cal_poly2_std:.2f}\")\n",
    "print(f\"  R²: {r2_cal_poly2_std:.4f}\")"
   ]
  },
  {
   "cell_type": "markdown",
   "id": "237e2794",
   "metadata": {},
   "source": [
    "### 2.6 Modelo 4: Regresión Polinomial Grado 2 con Escalamiento Robusto"
   ]
  },
  {
   "cell_type": "code",
   "execution_count": null,
   "id": "066ee18c",
   "metadata": {},
   "outputs": [
    {
     "name": "stdout",
     "output_type": "stream",
     "text": [
      "✓ Regresión Polinomial Grado 2 con Escalamiento Robusto\n",
      "  MSE: 4076152877.92\n",
      "  R²: 0.6874\n",
      "\n",
      "  MSE: 4076152877.92\n",
      "  R²: 0.6874\n"
     ]
    }
   ],
   "source": [
    "# Escalamiento robusto (RobustScaler: restar mediana, dividir por IQR)\n",
    "scaler_robust = RobustScaler()\n",
    "X_train_cal_robust = scaler_robust.fit_transform(X_train_cal)\n",
    "X_test_cal_robust = scaler_robust.transform(X_test_cal)\n",
    "\n",
    "# Características polinomiales de grado 2\n",
    "poly_cal_2_robust = PolynomialFeatures(degree=2)\n",
    "X_train_cal_poly2_robust = poly_cal_2_robust.fit_transform(X_train_cal_robust)\n",
    "X_test_cal_poly2_robust = poly_cal_2_robust.transform(X_test_cal_robust)\n",
    "\n",
    "# Modelo de regresión\n",
    "modelo_cal_poly2_robust = LinearRegression()\n",
    "modelo_cal_poly2_robust.fit(X_train_cal_poly2_robust, y_train_cal)\n",
    "\n",
    "# Predicciones\n",
    "y_pred_cal_poly2_robust = modelo_cal_poly2_robust.predict(X_test_cal_poly2_robust)\n",
    "\n",
    "# Métricas\n",
    "mse_cal_poly2_robust = mean_squared_error(y_test_cal, y_pred_cal_poly2_robust)\n",
    "r2_cal_poly2_robust = r2_score(y_test_cal, y_pred_cal_poly2_robust)\n",
    "\n",
    "# Guardar resultados\n",
    "resultados_parte2.append({\n",
    "    'Modelo': 'Polinomial',\n",
    "    'Grado': 2,\n",
    "    'Escalamiento': 'Robusto',\n",
    "    'MSE': mse_cal_poly2_robust,\n",
    "    'R²': r2_cal_poly2_robust\n",
    "})\n",
    "\n",
    "print(f\"✓ Regresión Polinomial Grado 2 con Escalamiento Robusto\")\n",
    "print(f\"  MSE: {mse_cal_poly2_robust:.2f}\")\n",
    "print(f\"  R²: {r2_cal_poly2_robust:.4f}\")"
   ]
  },
  {
   "cell_type": "markdown",
   "id": "7ac59fb6",
   "metadata": {},
   "source": [
    "### 2.7 Modelo 5: Regresión Polinomial Grado 3 sin Escalamiento"
   ]
  },
  {
   "cell_type": "code",
   "execution_count": null,
   "id": "9e17fbdb",
   "metadata": {},
   "outputs": [
    {
     "name": "stdout",
     "output_type": "stream",
     "text": [
      "✓ Regresión Polinomial Grado 3 sin Escalamiento\n",
      "  MSE: 4136316040.30\n",
      "  R²: 0.6828\n"
     ]
    }
   ],
   "source": [
    "# Características polinomiales de grado 3\n",
    "poly_cal_3 = PolynomialFeatures(degree=3)\n",
    "X_train_cal_poly3 = poly_cal_3.fit_transform(X_train_cal)\n",
    "X_test_cal_poly3 = poly_cal_3.transform(X_test_cal)\n",
    "\n",
    "# Modelo de regresión\n",
    "modelo_cal_poly3 = LinearRegression()\n",
    "modelo_cal_poly3.fit(X_train_cal_poly3, y_train_cal)\n",
    "\n",
    "# Predicciones\n",
    "y_pred_cal_poly3 = modelo_cal_poly3.predict(X_test_cal_poly3)\n",
    "\n",
    "# Métricas\n",
    "mse_cal_poly3 = mean_squared_error(y_test_cal, y_pred_cal_poly3)\n",
    "r2_cal_poly3 = r2_score(y_test_cal, y_pred_cal_poly3)\n",
    "\n",
    "# Guardar resultados\n",
    "resultados_parte2.append({\n",
    "    'Modelo': 'Polinomial',\n",
    "    'Grado': 3,\n",
    "    'Escalamiento': 'Sin escalamiento',\n",
    "    'MSE': mse_cal_poly3,\n",
    "    'R²': r2_cal_poly3\n",
    "})\n",
    "\n",
    "print(f\"✓ Regresión Polinomial Grado 3 sin Escalamiento\")\n",
    "print(f\"  MSE: {mse_cal_poly3:.2f}\")\n",
    "print(f\"  R²: {r2_cal_poly3:.4f}\")"
   ]
  },
  {
   "cell_type": "markdown",
   "id": "fd1c0478",
   "metadata": {},
   "source": [
    "### 2.8 Modelo 6: Regresión Polinomial Grado 3 con Escalamiento Estándar"
   ]
  },
  {
   "cell_type": "code",
   "execution_count": null,
   "id": "797c832b",
   "metadata": {},
   "outputs": [
    {
     "name": "stdout",
     "output_type": "stream",
     "text": [
      "✓ Regresión Polinomial Grado 3 con Escalamiento Estándar\n",
      "  MSE: 4103523449.51\n",
      "  R²: 0.6853\n"
     ]
    }
   ],
   "source": [
    "# Características polinomiales de grado 3 con datos escalados estándar\n",
    "poly_cal_3_std = PolynomialFeatures(degree=3)\n",
    "X_train_cal_poly3_std = poly_cal_3_std.fit_transform(X_train_cal_std)\n",
    "X_test_cal_poly3_std = poly_cal_3_std.transform(X_test_cal_std)\n",
    "\n",
    "# Modelo de regresión\n",
    "modelo_cal_poly3_std = LinearRegression()\n",
    "modelo_cal_poly3_std.fit(X_train_cal_poly3_std, y_train_cal)\n",
    "\n",
    "# Predicciones\n",
    "y_pred_cal_poly3_std = modelo_cal_poly3_std.predict(X_test_cal_poly3_std)\n",
    "\n",
    "# Métricas\n",
    "mse_cal_poly3_std = mean_squared_error(y_test_cal, y_pred_cal_poly3_std)\n",
    "r2_cal_poly3_std = r2_score(y_test_cal, y_pred_cal_poly3_std)\n",
    "\n",
    "# Guardar resultados\n",
    "resultados_parte2.append({\n",
    "    'Modelo': 'Polinomial',\n",
    "    'Grado': 3,\n",
    "    'Escalamiento': 'Estándar',\n",
    "    'MSE': mse_cal_poly3_std,\n",
    "    'R²': r2_cal_poly3_std\n",
    "})\n",
    "\n",
    "print(f\"✓ Regresión Polinomial Grado 3 con Escalamiento Estándar\")\n",
    "print(f\"  MSE: {mse_cal_poly3_std:.2f}\")\n",
    "print(f\"  R²: {r2_cal_poly3_std:.4f}\")"
   ]
  },
  {
   "cell_type": "markdown",
   "id": "54e203e7",
   "metadata": {},
   "source": [
    "### 2.9 Modelo 7: Regresión Polinomial Grado 3 con Escalamiento Robusto"
   ]
  },
  {
   "cell_type": "code",
   "execution_count": null,
   "id": "e5402455",
   "metadata": {},
   "outputs": [
    {
     "name": "stdout",
     "output_type": "stream",
     "text": [
      "✓ Regresión Polinomial Grado 3 con Escalamiento Robusto\n",
      "  MSE: 4103523449.51\n",
      "  R²: 0.6853\n"
     ]
    }
   ],
   "source": [
    "# Características polinomiales de grado 3 con datos escalados robusto\n",
    "poly_cal_3_robust = PolynomialFeatures(degree=3)\n",
    "X_train_cal_poly3_robust = poly_cal_3_robust.fit_transform(X_train_cal_robust)\n",
    "X_test_cal_poly3_robust = poly_cal_3_robust.transform(X_test_cal_robust)\n",
    "\n",
    "# Modelo de regresión\n",
    "modelo_cal_poly3_robust = LinearRegression()\n",
    "modelo_cal_poly3_robust.fit(X_train_cal_poly3_robust, y_train_cal)\n",
    "\n",
    "# Predicciones\n",
    "y_pred_cal_poly3_robust = modelo_cal_poly3_robust.predict(X_test_cal_poly3_robust)\n",
    "\n",
    "# Métricas\n",
    "mse_cal_poly3_robust = mean_squared_error(y_test_cal, y_pred_cal_poly3_robust)\n",
    "r2_cal_poly3_robust = r2_score(y_test_cal, y_pred_cal_poly3_robust)\n",
    "\n",
    "# Guardar resultados\n",
    "resultados_parte2.append({\n",
    "    'Modelo': 'Polinomial',\n",
    "    'Grado': 3,\n",
    "    'Escalamiento': 'Robusto',\n",
    "    'MSE': mse_cal_poly3_robust,\n",
    "    'R²': r2_cal_poly3_robust\n",
    "})\n",
    "\n",
    "print(f\"✓ Regresión Polinomial Grado 3 con Escalamiento Robusto\")\n",
    "print(f\"  MSE: {mse_cal_poly3_robust:.2f}\")\n",
    "print(f\"  R²: {r2_cal_poly3_robust:.4f}\")"
   ]
  },
  {
   "cell_type": "markdown",
   "id": "bd71d211",
   "metadata": {},
   "source": [
    "### 2.10 Resumen de Resultados - Parte 2"
   ]
  },
  {
   "cell_type": "code",
   "execution_count": null,
   "id": "709b948b",
   "metadata": {},
   "outputs": [
    {
     "ename": "NameError",
     "evalue": "name 'resultados_parte2' is not defined",
     "output_type": "error",
     "traceback": [
      "\u001b[31m---------------------------------------------------------------------------\u001b[39m",
      "\u001b[31mNameError\u001b[39m                                 Traceback (most recent call last)",
      "\u001b[36mCell\u001b[39m\u001b[36m \u001b[39m\u001b[32mIn[40]\u001b[39m\u001b[32m, line 2\u001b[39m\n\u001b[32m      1\u001b[39m \u001b[38;5;66;03m# Crear DataFrame con los resultados\u001b[39;00m\n\u001b[32m----> \u001b[39m\u001b[32m2\u001b[39m df_resultados_parte2 = pd.DataFrame(\u001b[43mresultados_parte2\u001b[49m)\n\u001b[32m      4\u001b[39m \u001b[38;5;66;03m# Mostrar tabla de resultados\u001b[39;00m\n\u001b[32m      5\u001b[39m \u001b[38;5;28mprint\u001b[39m(\u001b[33m\"\u001b[39m\u001b[33m=\u001b[39m\u001b[33m\"\u001b[39m*\u001b[32m90\u001b[39m)\n",
      "\u001b[31mNameError\u001b[39m: name 'resultados_parte2' is not defined"
     ]
    }
   ],
   "source": [
    "# Crear DataFrame con los resultados\n",
    "df_resultados_parte2 = pd.DataFrame(resultados_parte2)\n",
    "\n",
    "# Mostrar tabla de resultados\n",
    "print(\"=\"*90)\n",
    "print(\" \" * 25 + \"RESUMEN DE RESULTADOS - PARTE 2\")\n",
    "print(\" \" * 25 + \"(Dataset: cal_housing.csv)\")\n",
    "print(\"=\"*90)\n",
    "print()\n",
    "display(df_resultados_parte2.to_string(index=False))\n",
    "print()\n",
    "print(\"=\"*90)\n",
    "\n",
    "# Encontrar el mejor modelo\n",
    "mejor_idx_parte2 = df_resultados_parte2['R²'].idxmax()\n",
    "mejor_modelo_parte2 = df_resultados_parte2.loc[mejor_idx_parte2]\n",
    "\n",
    "print(f\"\\nMEJOR MODELO:\")\n",
    "print(f\"   Tipo: {mejor_modelo_parte2['Modelo']}\")\n",
    "print(f\"   Grado: {mejor_modelo_parte2['Grado']}\")\n",
    "print(f\"   Escalamiento: {mejor_modelo_parte2['Escalamiento']}\")\n",
    "print(f\"   MSE: {mejor_modelo_parte2['MSE']:.2f}\")\n",
    "print(f\"   R²: {mejor_modelo_parte2['R²']:.4f}\")\n",
    "print()\n",
    "\n",
    "# Gráficas comparativas\n",
    "fig, (ax1, ax2) = plt.subplots(1, 2, figsize=(8, 3))\n",
    "\n",
    "# Gráfica de MSE\n",
    "x_pos = np.arange(len(df_resultados_parte2))\n",
    "colores_mse = ['red' if i == mejor_idx_parte2 else 'lightcoral' for i in range(len(df_resultados_parte2))]\n",
    "ax1.bar(x_pos, df_resultados_parte2['MSE'], color=colores_mse, alpha=0.7)\n",
    "ax1.set_xlabel('Modelo', fontsize=11)\n",
    "ax1.set_ylabel('MSE (Error Cuadrático Medio)', fontsize=11)\n",
    "ax1.set_title('Comparación de MSE por Modelo', fontsize=13, fontweight='bold')\n",
    "ax1.set_xticks(x_pos)\n",
    "ax1.set_xticklabels([f\"{row['Modelo'][:3]}\\nG{row['Grado']}\\n{row['Escalamiento'][:3]}\" \n",
    "                      for _, row in df_resultados_parte2.iterrows()], fontsize=8)\n",
    "ax1.grid(True, alpha=0.3, axis='y')\n",
    "\n",
    "# Gráfica de R²\n",
    "colores_r2 = ['green' if i == mejor_idx_parte2 else 'lightgreen' for i in range(len(df_resultados_parte2))]\n",
    "ax2.bar(x_pos, df_resultados_parte2['R²'], color=colores_r2, alpha=0.7)\n",
    "ax2.set_xlabel('Modelo', fontsize=11)\n",
    "ax2.set_ylabel('R² (Coeficiente de Determinación)', fontsize=11)\n",
    "ax2.set_title('Comparación de R² por Modelo', fontsize=13, fontweight='bold')\n",
    "ax2.set_xticks(x_pos)\n",
    "ax2.set_xticklabels([f\"{row['Modelo'][:3]}\\nG{row['Grado']}\\n{row['Escalamiento'][:3]}\" \n",
    "                      for _, row in df_resultados_parte2.iterrows()], fontsize=8)\n",
    "ax2.grid(True, alpha=0.3, axis='y')\n",
    "\n",
    "plt.tight_layout()\n",
    "plt.show()\n",
    "\n",
    "# Conclusión específica para la Parte 2\n",
    "print(\"\\n\" + \"=\"*90)\n",
    "print(\"CONCLUSIÓN - PARTE 2:\")\n",
    "print(\"=\"*90)\n",
    "print(f\"\"\"\n",
    "El modelo con mejor desempeño es la {mejor_modelo_parte2['Modelo']} de grado {mejor_modelo_parte2['Grado']} \n",
    "con {mejor_modelo_parte2['Escalamiento']}, logrando un R² de {mejor_modelo_parte2['R²']:.4f} y un MSE de \n",
    "{mejor_modelo_parte2['MSE']:.2f}.\n",
    "\n",
    "Observaciones:\n",
    "- El escalamiento de características mejora significativamente el desempeño de los modelos polinomiales.\n",
    "- Los modelos de mayor grado (grado 3) tienden a capturar mejor la complejidad de los datos.\n",
    "- El escalamiento robusto y estándar producen resultados similares, siendo útiles para manejar datos \n",
    "  con diferentes escalas y distribuciones.\n",
    "\"\"\")"
   ]
  }
 ],
 "metadata": {
  "kernelspec": {
   "display_name": "Python 3",
   "language": "python",
   "name": "python3"
  },
  "language_info": {
   "codemirror_mode": {
    "name": "ipython",
    "version": 3
   },
   "file_extension": ".py",
   "mimetype": "text/x-python",
   "name": "python",
   "nbconvert_exporter": "python",
   "pygments_lexer": "ipython3",
   "version": "3.12.10"
  }
 },
 "nbformat": 4,
 "nbformat_minor": 5
}
