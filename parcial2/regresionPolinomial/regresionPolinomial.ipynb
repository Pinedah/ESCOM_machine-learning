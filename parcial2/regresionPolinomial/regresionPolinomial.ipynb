{
 "cells": [
  {
   "cell_type": "markdown",
   "id": "89550ff9",
   "metadata": {},
   "source": [
    "# Práctica. Regresión Polinomial\n",
    "Francisco Pineda Hernández"
   ]
  },
  {
   "cell_type": "code",
   "execution_count": 1,
   "id": "024c4052",
   "metadata": {},
   "outputs": [],
   "source": [
    "import pandas as pd\n",
    "import numpy as np\n",
    "import matplotlib.pyplot as plt"
   ]
  },
  {
   "cell_type": "code",
   "execution_count": 23,
   "id": "2e3e62a0",
   "metadata": {},
   "outputs": [
    {
     "data": {
      "text/html": [
       "<div>\n",
       "<style scoped>\n",
       "    .dataframe tbody tr th:only-of-type {\n",
       "        vertical-align: middle;\n",
       "    }\n",
       "\n",
       "    .dataframe tbody tr th {\n",
       "        vertical-align: top;\n",
       "    }\n",
       "\n",
       "    .dataframe thead th {\n",
       "        text-align: right;\n",
       "    }\n",
       "</style>\n",
       "<table border=\"1\" class=\"dataframe\">\n",
       "  <thead>\n",
       "    <tr style=\"text-align: right;\">\n",
       "      <th></th>\n",
       "      <th>x</th>\n",
       "      <th>y</th>\n",
       "    </tr>\n",
       "  </thead>\n",
       "  <tbody>\n",
       "    <tr>\n",
       "      <th>0</th>\n",
       "      <td>-3.292157</td>\n",
       "      <td>-44.608971</td>\n",
       "    </tr>\n",
       "    <tr>\n",
       "      <th>1</th>\n",
       "      <td>-0.936214</td>\n",
       "      <td>0.623178</td>\n",
       "    </tr>\n",
       "    <tr>\n",
       "      <th>2</th>\n",
       "      <td>-3.602674</td>\n",
       "      <td>-58.873048</td>\n",
       "    </tr>\n",
       "    <tr>\n",
       "      <th>3</th>\n",
       "      <td>-0.850265</td>\n",
       "      <td>-6.057589</td>\n",
       "    </tr>\n",
       "    <tr>\n",
       "      <th>4</th>\n",
       "      <td>2.309657</td>\n",
       "      <td>-3.967128</td>\n",
       "    </tr>\n",
       "    <tr>\n",
       "      <th>...</th>\n",
       "      <td>...</td>\n",
       "      <td>...</td>\n",
       "    </tr>\n",
       "    <tr>\n",
       "      <th>95</th>\n",
       "      <td>5.878571</td>\n",
       "      <td>36.139165</td>\n",
       "    </tr>\n",
       "    <tr>\n",
       "      <th>96</th>\n",
       "      <td>2.117848</td>\n",
       "      <td>-8.607422</td>\n",
       "    </tr>\n",
       "    <tr>\n",
       "      <th>97</th>\n",
       "      <td>0.430170</td>\n",
       "      <td>-3.414761</td>\n",
       "    </tr>\n",
       "    <tr>\n",
       "      <th>98</th>\n",
       "      <td>-0.315372</td>\n",
       "      <td>-1.059461</td>\n",
       "    </tr>\n",
       "    <tr>\n",
       "      <th>99</th>\n",
       "      <td>-4.489708</td>\n",
       "      <td>-89.045667</td>\n",
       "    </tr>\n",
       "  </tbody>\n",
       "</table>\n",
       "<p>100 rows × 2 columns</p>\n",
       "</div>"
      ],
      "text/plain": [
       "           x          y\n",
       "0  -3.292157 -44.608971\n",
       "1  -0.936214   0.623178\n",
       "2  -3.602674 -58.873048\n",
       "3  -0.850265  -6.057589\n",
       "4   2.309657  -3.967128\n",
       "..       ...        ...\n",
       "95  5.878571  36.139165\n",
       "96  2.117848  -8.607422\n",
       "97  0.430170  -3.414761\n",
       "98 -0.315372  -1.059461\n",
       "99 -4.489708 -89.045667\n",
       "\n",
       "[100 rows x 2 columns]"
      ]
     },
     "execution_count": 23,
     "metadata": {},
     "output_type": "execute_result"
    }
   ],
   "source": [
    "datos = pd.read_csv('datos.csv')\n",
    "datos"
   ]
  },
  {
   "cell_type": "code",
   "execution_count": 28,
   "id": "e3fdd9be",
   "metadata": {},
   "outputs": [
    {
     "name": "stdout",
     "output_type": "stream",
     "text": [
      "-3.2921570379029923\n",
      "-0.9362139523172176\n",
      "-3.602673970449903\n",
      "-0.8502652525767682\n",
      "2.3096565553806734\n",
      "1.567869286517366\n",
      "-0.2831131754409801\n",
      "0.6684103017637231\n",
      "-2.482237219472818\n",
      "1.060796895047296\n",
      "9.658969447502235\n",
      "-0.5933085965785172\n",
      "-4.809263871962823\n",
      "1.8627244480956615\n",
      "-2.5983376430753724\n",
      "1.535157722909251\n",
      "4.6633572428903385\n",
      "3.043736447978458\n",
      "-1.6908720421831624\n",
      "3.161980452223857\n",
      "5.145658895201278\n",
      "7.118810571875038\n",
      "3.5289565452549603\n",
      "5.758386080149778\n",
      "6.841693542673855\n",
      "4.686399683581027\n",
      "3.532415412706619\n",
      "2.0845466850159644\n",
      "1.8004483328504963\n",
      "3.902966281042891\n",
      "4.017381343327854\n",
      "4.439438846133362\n",
      "1.4677215732387414\n",
      "6.890595040898134\n",
      "4.721895093149726\n",
      "-0.1872716865326107\n",
      "-1.4182020536299025\n",
      "0.7929750764673531\n",
      "4.612391447545646\n",
      "2.934657596382118\n",
      "5.49544952235007\n",
      "0.6030126808086205\n",
      "-2.4647565813867995\n",
      "-1.536338713478952\n",
      "5.212257864531628\n",
      "3.209530840919539\n",
      "1.375175065769419\n",
      "0.9309008084767942\n",
      "1.9684999378375383\n",
      "1.61926372188914\n",
      "-3.6494520911687633\n",
      "5.811454995457201\n",
      "5.51937021534248\n",
      "3.240856942279242\n",
      "-3.768826079441154\n",
      "-3.6026768812797094\n",
      "4.583677055164108\n",
      "2.804010112854141\n",
      "-0.8417559033212441\n",
      "0.1577618889617591\n",
      "0.8707234065331118\n",
      "1.105285477381832\n",
      "4.083703579194097\n",
      "3.3054606551649126\n",
      "-0.0168842710373064\n",
      "4.30974822333595\n",
      "4.022997981972129\n",
      "3.907538235136643\n",
      "0.2702275501551772\n",
      "0.8119798620150642\n",
      "6.473772778116817\n",
      "1.4999795138824128\n",
      "-5.149434324591827\n",
      "4.738466676332475\n",
      "5.947722231534564\n",
      "2.204724815973893\n",
      "4.234264466145319\n",
      "2.2953575732762967\n",
      "-1.379907766319521\n",
      "5.442405957233307\n",
      "3.4940973520769147\n",
      "-0.8482624207772824\n",
      "5.676306556490504\n",
      "5.000646042168694\n",
      "-1.564089377056905\n",
      "-0.7625764713424568\n",
      "-0.5704918357080735\n",
      "5.102728525353394\n",
      "4.410228992521523\n",
      "3.3665975105520296\n",
      "3.061981733760452\n",
      "3.930855208498672\n",
      "0.1243056469184376\n",
      "5.313150018285352\n",
      "4.218688989173939\n",
      "5.878570729170345\n",
      "2.1178484546824867\n",
      "0.430170018404739\n",
      "-0.315371653641002\n",
      "-4.4897078478420696\n"
     ]
    }
   ],
   "source": [
    "for i in range(len(datos)):\n",
    "    print(datos['x'].iloc[i])"
   ]
  },
  {
   "cell_type": "code",
   "execution_count": 10,
   "id": "b90dcf30",
   "metadata": {},
   "outputs": [],
   "source": [
    "from sklearn.model_selection import train_test_split\n",
    "\n",
    "X = datos[['x']]   # X debe ser un DataFrame\n",
    "y = datos['y']     # y puede ser una Serie\n",
    "\n",
    "X_train, X_test, y_train, y_test = train_test_split(\n",
    "    X, y, train_size=0.7, test_size=0.3, random_state=0\n",
    ")\n"
   ]
  },
  {
   "cell_type": "code",
   "execution_count": 1,
   "id": "2573d32e",
   "metadata": {},
   "outputs": [],
   "source": [
    "from sklearn.linear_model import LinearRegression\n",
    "from sklearn.linear_model import SGDRegressor\n",
    "from sklearn.preprocessing import PolynomialFeatures\n",
    "from sklearn.metrics import mean_squared_error, r2_score\n",
    "#      smoooooooooooooooooooooooooooooooooooooooooooooooooooooooooothh\n",
    "import operator"
   ]
  },
  {
   "cell_type": "markdown",
   "id": "1fad5409",
   "metadata": {},
   "source": [
    "## Regresión líneal con OLS"
   ]
  },
  {
   "cell_type": "code",
   "execution_count": 17,
   "id": "7ff9ca42",
   "metadata": {},
   "outputs": [
    {
     "name": "stderr",
     "output_type": "stream",
     "text": [
      "c:\\Users\\packo\\AppData\\Local\\Programs\\Python\\Python312\\Lib\\site-packages\\sklearn\\utils\\validation.py:2749: UserWarning: X does not have valid feature names, but LinearRegression was fitted with feature names\n",
      "  warnings.warn(\n"
     ]
    },
    {
     "data": {
      "image/png": "[encoded data removed]",
      "text/plain": [
       "<Figure size 640x480 with 1 Axes>"
      ]
     },
     "metadata": {},
     "output_type": "display_data"
    }
   ],
   "source": [
    "model = LinearRegression()\n",
    "model.fit(X_train, y_train)\n",
    "\n",
    "y_pred = model.predict(X_test)\n",
    "\n",
    "plt.scatter(X, y, color='blue', label='Datos reales')\n",
    "\n",
    "# Crear una línea de valores ordenados para graficar la recta de regresión\n",
    "x_plot = np.linspace(X.min(), X.max(), 100).reshape(-1, 1)\n",
    "y_plot = model.predict(x_plot)\n",
    "\n",
    "# Graficar la línea de regresión\n",
    "plt.plot(x_plot, y_plot, color='red', label='Ajuste lineal (OLS)')\n",
    "\n",
    "# Etiquetas y leyenda\n",
    "plt.xlabel('x')\n",
    "plt.ylabel('y')\n",
    "plt.title('Regresión Lineal con OLS')\n",
    "plt.legend()\n",
    "plt.show()"
   ]
  },
  {
   "cell_type": "markdown",
   "id": "87098800",
   "metadata": {},
   "source": [
    "## Regresión polinomial de grado 2 con OLS"
   ]
  },
  {
   "cell_type": "code",
   "execution_count": 15,
   "id": "2c670a90",
   "metadata": {},
   "outputs": [
    {
     "name": "stdout",
     "output_type": "stream",
     "text": [
      "Intercepto: -25.436031565811472\n",
      "Coeficientes: [0.         7.52755995 0.89999702]\n",
      "Ecuación del modelo:\n",
      "y = -25.436 + 0.000*x + 7.528*x²\n",
      "R² en test: 0.6664874659184128\n"
     ]
    },
    {
     "name": "stderr",
     "output_type": "stream",
     "text": [
      "c:\\Users\\packo\\AppData\\Local\\Programs\\Python\\Python312\\Lib\\site-packages\\sklearn\\utils\\validation.py:2749: UserWarning: X does not have valid feature names, but PolynomialFeatures was fitted with feature names\n",
      "  warnings.warn(\n"
     ]
    },
    {
     "data": {
      "image/png": "[encoded data removed]",
      "text/plain": [
       "<Figure size 640x480 with 1 Axes>"
      ]
     },
     "metadata": {},
     "output_type": "display_data"
    }
   ],
   "source": [
    "poly = PolynomialFeatures(degree=2)\n",
    "X_poly_train = poly.fit_transform(X_train)\n",
    "X_poly_test = poly.transform(X_test)\n",
    "\n",
    "# Crear y entrenar el modelo de regresión lineal (OLS)\n",
    "model = LinearRegression()\n",
    "model.fit(X_poly_train, y_train)\n",
    "\n",
    "# Predicciones\n",
    "y_pred = model.predict(X_poly_test)\n",
    "\n",
    "# Coeficientes y ecuación resultante\n",
    "print(\"Intercepto:\", model.intercept_)\n",
    "print(\"Coeficientes:\", model.coef_)\n",
    "print(\"Ecuación del modelo:\")\n",
    "print(f\"y = {model.intercept_:.3f} + {model.coef_[0]:.3f}*x + {model.coef_[1]:.3f}*x²\")\n",
    "\n",
    "# Evaluación del modelo\n",
    "r2 = model.score(X_poly_test, y_test)\n",
    "print(\"R² en test:\", r2)\n",
    "\n",
    "# Visualización\n",
    "plt.scatter(X, y, color='blue', label='Datos reales')\n",
    "x_plot = np.linspace(X.min(), X.max(), 100)\n",
    "x_plot_poly = poly.transform(x_plot)\n",
    "y_plot = model.predict(x_plot_poly)\n",
    "plt.plot(x_plot, y_plot, color='red', label='Ajuste polinomial (grado 2)')\n",
    "plt.legend()\n",
    "plt.xlabel('x')\n",
    "plt.ylabel('y')\n",
    "plt.title('Regresión Polinomial de Grado 2 (OLS)')\n",
    "plt.show()"
   ]
  },
  {
   "cell_type": "markdown",
   "id": "a29ee652",
   "metadata": {},
   "source": [
    "## Regresión polinomial de grado 3 con OLS"
   ]
  },
  {
   "cell_type": "code",
   "execution_count": 16,
   "id": "d68eebdc",
   "metadata": {},
   "outputs": [
    {
     "name": "stdout",
     "output_type": "stream",
     "text": [
      "Intercepto: -2.5120821464911463\n",
      "Coeficientes: [ 0.          0.9102488  -2.00399169  0.50530549]\n",
      "Ecuación del modelo:\n",
      "y = -2.512 + 0.000*x + 0.910*x²\n",
      "R² en test: 0.9919679186464004\n"
     ]
    },
    {
     "name": "stderr",
     "output_type": "stream",
     "text": [
      "c:\\Users\\packo\\AppData\\Local\\Programs\\Python\\Python312\\Lib\\site-packages\\sklearn\\utils\\validation.py:2749: UserWarning: X does not have valid feature names, but PolynomialFeatures was fitted with feature names\n",
      "  warnings.warn(\n"
     ]
    },
    {
     "data": {
      "image/png": "[encoded data removed]",
      "text/plain": [
       "<Figure size 640x480 with 1 Axes>"
      ]
     },
     "metadata": {},
     "output_type": "display_data"
    }
   ],
   "source": [
    "poly = PolynomialFeatures(degree=3)\n",
    "X_poly_train = poly.fit_transform(X_train)\n",
    "X_poly_test = poly.transform(X_test)\n",
    "\n",
    "# Crear y entrenar el modelo de regresión lineal (OLS)\n",
    "model = LinearRegression()\n",
    "model.fit(X_poly_train, y_train)\n",
    "\n",
    "# Predicciones\n",
    "y_pred = model.predict(X_poly_test)\n",
    "\n",
    "# Coeficientes y ecuación resultante\n",
    "print(\"Intercepto:\", model.intercept_)\n",
    "print(\"Coeficientes:\", model.coef_)\n",
    "print(\"Ecuación del modelo:\")\n",
    "print(f\"y = {model.intercept_:.3f} + {model.coef_[0]:.3f}*x + {model.coef_[1]:.3f}*x²\")\n",
    "\n",
    "# Evaluación del modelo\n",
    "r2 = model.score(X_poly_test, y_test)\n",
    "print(\"R² en test:\", r2)\n",
    "\n",
    "# Visualización\n",
    "plt.scatter(X, y, color='blue', label='Datos reales')\n",
    "x_plot = np.linspace(X.min(), X.max(), 100)\n",
    "x_plot_poly = poly.transform(x_plot)\n",
    "y_plot = model.predict(x_plot_poly)\n",
    "plt.plot(x_plot, y_plot, color='red', label='Ajuste polinomial (grado 2)')\n",
    "plt.legend()\n",
    "plt.xlabel('x')\n",
    "plt.ylabel('y')\n",
    "plt.title('Regresión Polinomial de Grado 2 (OLS)')\n",
    "plt.show()"
   ]
  },
  {
   "cell_type": "markdown",
   "id": "c73a7194",
   "metadata": {},
   "source": [
    "## Regresión líneal con SGD"
   ]
  },
  {
   "cell_type": "markdown",
   "id": "ec7a89ae",
   "metadata": {},
   "source": [
    "## Regresión polinomial de grado 2 con SGD"
   ]
  },
  {
   "cell_type": "markdown",
   "id": "86e55dc5",
   "metadata": {},
   "source": [
    "## Regresión polinomial de grado 3 con SGD"
   ]
  },
  {
   "cell_type": "code",
   "execution_count": 19,
   "id": "4b35f496",
   "metadata": {},
   "outputs": [
    {
     "ename": "AttributeError",
     "evalue": "'SGDRegressor' object has no attribute 'fit_transform'",
     "output_type": "error",
     "traceback": [
      "\u001b[31m---------------------------------------------------------------------------\u001b[39m",
      "\u001b[31mAttributeError\u001b[39m                            Traceback (most recent call last)",
      "\u001b[36mCell\u001b[39m\u001b[36m \u001b[39m\u001b[32mIn[19]\u001b[39m\u001b[32m, line 2\u001b[39m\n\u001b[32m      1\u001b[39m poly = SGDRegressor()\n\u001b[32m----> \u001b[39m\u001b[32m2\u001b[39m X_poly_train = \u001b[43mpoly\u001b[49m\u001b[43m.\u001b[49m\u001b[43mfit_transform\u001b[49m(X_train)\n\u001b[32m      3\u001b[39m X_poly_test = poly.transform(X_test)\n\u001b[32m      5\u001b[39m \u001b[38;5;66;03m# Crear y entrenar el modelo de regresión lineal (OLS)\u001b[39;00m\n",
      "\u001b[31mAttributeError\u001b[39m: 'SGDRegressor' object has no attribute 'fit_transform'"
     ]
    }
   ],
   "source": [
    "poly = SGDRegressor()\n",
    "X_poly_train = poly.fit_transform(X_train)\n",
    "X_poly_test = poly.transform(X_test)\n",
    "\n",
    "# Crear y entrenar el modelo de regresión lineal (OLS)\n",
    "model = LinearRegression()\n",
    "model.fit(X_poly_train, y_train)\n",
    "\n",
    "# Predicciones\n",
    "y_pred = model.predict(X_poly_test)\n",
    "\n",
    "# Coeficientes y ecuación resultante\n",
    "print(\"Intercepto:\", model.intercept_)\n",
    "print(\"Coeficientes:\", model.coef_)\n",
    "print(\"Ecuación del modelo:\")\n",
    "print(f\"y = {model.intercept_:.3f} + {model.coef_[0]:.3f}*x + {model.coef_[1]:.3f}*x²\")\n",
    "\n",
    "# Evaluación del modelo\n",
    "r2 = model.score(X_poly_test, y_test)\n",
    "print(\"R² en test:\", r2)\n",
    "\n",
    "# Visualización\n",
    "plt.scatter(X, y, color='blue', label='Datos reales')\n",
    "x_plot = np.linspace(X.min(), X.max(), 100)\n",
    "x_plot_poly = poly.transform(x_plot)\n",
    "y_plot = model.predict(x_plot_poly)\n",
    "plt.plot(x_plot, y_plot, color='red', label='Ajuste polinomial (grado 2)')\n",
    "plt.legend()\n",
    "plt.xlabel('x')\n",
    "plt.ylabel('y')\n",
    "plt.title('Regresión Polinomial de Grado 2 (OLS)')\n",
    "plt.show()"
   ]
  }
 ],
 "metadata": {
  "kernelspec": {
   "display_name": "Python 3",
   "language": "python",
   "name": "python3"
  },
  "language_info": {
   "codemirror_mode": {
    "name": "ipython",
    "version": 3
   },
   "file_extension": ".py",
   "mimetype": "text/x-python",
   "name": "python",
   "nbconvert_exporter": "python",
   "pygments_lexer": "ipython3",
   "version": "3.12.10"
  }
 },
 "nbformat": 4,
 "nbformat_minor": 5
}
